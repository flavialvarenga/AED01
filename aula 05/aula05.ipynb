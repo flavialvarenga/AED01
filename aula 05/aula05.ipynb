{
 "cells": [
  {
   "cell_type": "markdown",
   "id": "37f2dcc3-0665-4dda-bf14-6ed83a662612",
   "metadata": {},
   "source": [
    "# TIPO INTEIRO"
   ]
  },
  {
   "cell_type": "code",
   "execution_count": 4,
   "id": "5af192a4-958b-4ef9-a42a-c2048fab20dd",
   "metadata": {},
   "outputs": [
    {
     "data": {
      "text/plain": [
       "10"
      ]
     },
     "execution_count": 4,
     "metadata": {},
     "output_type": "execute_result"
    }
   ],
   "source": [
    "10"
   ]
  },
  {
   "cell_type": "code",
   "execution_count": 6,
   "id": "d7514564-dcad-4a68-856d-2c18dfd31684",
   "metadata": {},
   "outputs": [],
   "source": [
    "num = 10"
   ]
  },
  {
   "cell_type": "code",
   "execution_count": 8,
   "id": "0f4c15f0-b02f-4544-b1d7-f323d282bbb9",
   "metadata": {},
   "outputs": [
    {
     "data": {
      "text/plain": [
       "10"
      ]
     },
     "execution_count": 8,
     "metadata": {},
     "output_type": "execute_result"
    }
   ],
   "source": [
    "num"
   ]
  },
  {
   "cell_type": "code",
   "execution_count": 11,
   "id": "472d18f0-d201-4272-a505-b8b459c35300",
   "metadata": {},
   "outputs": [
    {
     "data": {
      "text/plain": [
       "int"
      ]
     },
     "execution_count": 11,
     "metadata": {},
     "output_type": "execute_result"
    }
   ],
   "source": [
    "type(num)"
   ]
  },
  {
   "cell_type": "code",
   "execution_count": 13,
   "id": "4f707ce5-5a1d-4729-93c7-e3f1139e639e",
   "metadata": {},
   "outputs": [
    {
     "data": {
      "text/plain": [
       "30"
      ]
     },
     "execution_count": 13,
     "metadata": {},
     "output_type": "execute_result"
    }
   ],
   "source": [
    "10+20"
   ]
  },
  {
   "cell_type": "code",
   "execution_count": 15,
   "id": "677fef4c-652d-4e3d-9148-7dc0a1b27268",
   "metadata": {},
   "outputs": [
    {
     "data": {
      "text/plain": [
       "3.5"
      ]
     },
     "execution_count": 15,
     "metadata": {},
     "output_type": "execute_result"
    }
   ],
   "source": [
    "7/2"
   ]
  },
  {
   "cell_type": "code",
   "execution_count": 17,
   "id": "5201d231-3b8f-4d6c-9016-ffdc5d6ebeda",
   "metadata": {},
   "outputs": [],
   "source": [
    "num = 20"
   ]
  },
  {
   "cell_type": "code",
   "execution_count": 19,
   "id": "821394b6-dda3-4194-86f8-92df7ef63ee9",
   "metadata": {},
   "outputs": [
    {
     "data": {
      "text/plain": [
       "20"
      ]
     },
     "execution_count": 19,
     "metadata": {},
     "output_type": "execute_result"
    }
   ],
   "source": [
    "num"
   ]
  },
  {
   "cell_type": "code",
   "execution_count": 21,
   "id": "27db4516-b7a0-40a7-beeb-5b7d5dcc7206",
   "metadata": {},
   "outputs": [],
   "source": [
    "x = 5"
   ]
  },
  {
   "cell_type": "code",
   "execution_count": 23,
   "id": "d377cdc4-80e8-41b0-a071-0b35d6b799f8",
   "metadata": {},
   "outputs": [
    {
     "data": {
      "text/plain": [
       "25"
      ]
     },
     "execution_count": 23,
     "metadata": {},
     "output_type": "execute_result"
    }
   ],
   "source": [
    "num + x"
   ]
  },
  {
   "cell_type": "code",
   "execution_count": 25,
   "id": "9c51094c-9792-45e9-a4ab-f2f27a5be68b",
   "metadata": {},
   "outputs": [],
   "source": [
    "soma = num + x"
   ]
  },
  {
   "cell_type": "code",
   "execution_count": 27,
   "id": "c8c8a3a2-db03-45c5-b105-279b89ba600d",
   "metadata": {},
   "outputs": [
    {
     "data": {
      "text/plain": [
       "25"
      ]
     },
     "execution_count": 27,
     "metadata": {},
     "output_type": "execute_result"
    }
   ],
   "source": [
    "soma"
   ]
  },
  {
   "cell_type": "code",
   "execution_count": 29,
   "id": "7739d12c-91b4-483a-9b5e-ea2d84ea584b",
   "metadata": {},
   "outputs": [],
   "source": [
    "mult = num * x"
   ]
  },
  {
   "cell_type": "code",
   "execution_count": 31,
   "id": "21e76891-52c0-4a50-ad4e-1e7398997d6b",
   "metadata": {},
   "outputs": [
    {
     "data": {
      "text/plain": [
       "100"
      ]
     },
     "execution_count": 31,
     "metadata": {},
     "output_type": "execute_result"
    }
   ],
   "source": [
    "mult"
   ]
  },
  {
   "cell_type": "code",
   "execution_count": 33,
   "id": "2127bd71-d22f-4d7a-8726-ed474dc40492",
   "metadata": {},
   "outputs": [
    {
     "data": {
      "text/plain": [
       "107150860718626732094842504906000181056140481170553360744375038837035105112493612249319837881569585812759467291755314682518714528569231404359845775746985748039345677748242309854210746050623711418779541821530464749835819412673987675591655439460770629145711964776865421676604298316526243868372056680693760000000000000000000000000000000000000000000000000000000000000000000000000000000000000000000000000000000000000000000000000000000000000000000000000000000000000000000000000000000000000000000000000000000000000000000000000000000000000000000000000000000000000000000000000000000000000000000000000000000000000000000000000000000000000000000000000000000000000000000000000000000000000000000000000000000000000000000000000000000000000000000000000000000000000000000000000000000000000000000000000000000000000000000000000000000000000000000000000000000000000000000000000000000000000000000000000000000000000000000000000000000000000000000000000000000000000000000000000000000000000000000000000000000000000000000000000000000000000000000000000000000000000000000000000000000000000000000000000000000000000000000000000000000000000000000000000000000000000000000000000000000000000000000000000000000000000000000000000000000000000000000000000000000000000000000000000000000000000000000000000000000000000000000000000000000000000000"
      ]
     },
     "execution_count": 33,
     "metadata": {},
     "output_type": "execute_result"
    }
   ],
   "source": [
    "20 ** 1000"
   ]
  },
  {
   "cell_type": "code",
   "execution_count": 35,
   "id": "f8be4799-100d-48f6-b117-5a3f20d2d80a",
   "metadata": {},
   "outputs": [],
   "source": [
    "x = num - 30"
   ]
  },
  {
   "cell_type": "code",
   "execution_count": 37,
   "id": "5c47a260-47af-4b9c-8ebb-a34b98a6496a",
   "metadata": {},
   "outputs": [
    {
     "data": {
      "text/plain": [
       "-10"
      ]
     },
     "execution_count": 37,
     "metadata": {},
     "output_type": "execute_result"
    }
   ],
   "source": [
    "x"
   ]
  },
  {
   "cell_type": "code",
   "execution_count": 39,
   "id": "5290ae56-95b2-42c7-921e-4a1dd9c8666f",
   "metadata": {},
   "outputs": [
    {
     "data": {
      "text/plain": [
       "3.5"
      ]
     },
     "execution_count": 39,
     "metadata": {},
     "output_type": "execute_result"
    }
   ],
   "source": [
    "7/2"
   ]
  },
  {
   "cell_type": "code",
   "execution_count": 41,
   "id": "944be135-9f1c-4259-9d3e-5813bc095a06",
   "metadata": {},
   "outputs": [
    {
     "data": {
      "text/plain": [
       "3"
      ]
     },
     "execution_count": 41,
     "metadata": {},
     "output_type": "execute_result"
    }
   ],
   "source": [
    "7//2"
   ]
  },
  {
   "cell_type": "code",
   "execution_count": 43,
   "id": "110aff2b-b898-4f86-ba52-b8dd5a29284c",
   "metadata": {},
   "outputs": [
    {
     "data": {
      "text/plain": [
       "1"
      ]
     },
     "execution_count": 43,
     "metadata": {},
     "output_type": "execute_result"
    }
   ],
   "source": [
    "7%2"
   ]
  },
  {
   "cell_type": "code",
   "execution_count": 45,
   "id": "8bcb7edb-d86c-4f8e-8299-93e516b0f0f8",
   "metadata": {},
   "outputs": [],
   "source": [
    "num = x + 3"
   ]
  },
  {
   "cell_type": "code",
   "execution_count": 47,
   "id": "ee9adcbe-b9a0-45bb-a6ea-0aafe998a4f2",
   "metadata": {},
   "outputs": [
    {
     "data": {
      "text/plain": [
       "-7"
      ]
     },
     "execution_count": 47,
     "metadata": {},
     "output_type": "execute_result"
    }
   ],
   "source": [
    "num"
   ]
  },
  {
   "cell_type": "code",
   "execution_count": 49,
   "id": "57a5cfe0-ee62-4ae8-93f3-a5d541e1332d",
   "metadata": {},
   "outputs": [],
   "source": [
    "num = num + 20"
   ]
  },
  {
   "cell_type": "code",
   "execution_count": 135,
   "id": "dccc8254-179e-4291-ab7c-22895c2b7bb6",
   "metadata": {},
   "outputs": [
    {
     "data": {
      "text/plain": [
       "-11.2"
      ]
     },
     "execution_count": 135,
     "metadata": {},
     "output_type": "execute_result"
    }
   ],
   "source": [
    "num"
   ]
  },
  {
   "cell_type": "code",
   "execution_count": 133,
   "id": "a025276f-9353-4cfc-ae5f-0855f05e3aac",
   "metadata": {},
   "outputs": [],
   "source": [
    "num += 20"
   ]
  },
  {
   "cell_type": "code",
   "execution_count": 127,
   "id": "ccb92503-9e94-47c2-bfc4-76c325a7f068",
   "metadata": {},
   "outputs": [
    {
     "data": {
      "text/plain": [
       "4.4"
      ]
     },
     "execution_count": 127,
     "metadata": {},
     "output_type": "execute_result"
    }
   ],
   "source": [
    "num"
   ]
  },
  {
   "cell_type": "code",
   "execution_count": 129,
   "id": "daecd21b-b2e1-4f30-a640-b8897db83cec",
   "metadata": {},
   "outputs": [
    {
     "name": "stdout",
     "output_type": "stream",
     "text": [
      "-15.6\n"
     ]
    }
   ],
   "source": [
    "num -= 20\n",
    "print(num)"
   ]
  },
  {
   "cell_type": "code",
   "execution_count": 131,
   "id": "d599a011-292a-4442-969a-ba14d243dde7",
   "metadata": {},
   "outputs": [
    {
     "name": "stdout",
     "output_type": "stream",
     "text": [
      "-31.2\n"
     ]
    }
   ],
   "source": [
    "num *= 2\n",
    "print(num)"
   ]
  },
  {
   "cell_type": "code",
   "execution_count": 82,
   "id": "5bd53f0a-dc63-491c-ae7c-9ec9cfc3a25f",
   "metadata": {},
   "outputs": [
    {
     "name": "stdout",
     "output_type": "stream",
     "text": [
      "-5.846153846153846\n"
     ]
    }
   ],
   "source": [
    "num /= 13\n",
    "print(num)"
   ]
  },
  {
   "cell_type": "code",
   "execution_count": 67,
   "id": "45d7664b-66fa-4322-a0d0-a6d5b0131632",
   "metadata": {},
   "outputs": [
    {
     "data": {
      "text/plain": [
       "float"
      ]
     },
     "execution_count": 67,
     "metadata": {},
     "output_type": "execute_result"
    }
   ],
   "source": [
    "type(num)"
   ]
  },
  {
   "cell_type": "markdown",
   "id": "e1af4136-d885-4904-a100-276c207b98d9",
   "metadata": {},
   "source": [
    "# TIPO FLOAT"
   ]
  },
  {
   "cell_type": "code",
   "execution_count": 70,
   "id": "e432f744-65a7-4550-bee3-a92037bdc1b7",
   "metadata": {},
   "outputs": [
    {
     "data": {
      "text/plain": [
       "float"
      ]
     },
     "execution_count": 70,
     "metadata": {},
     "output_type": "execute_result"
    }
   ],
   "source": [
    "type(num)"
   ]
  },
  {
   "cell_type": "code",
   "execution_count": 115,
   "id": "e0617206-76eb-4ba7-81a7-a15aa6b8d7e0",
   "metadata": {},
   "outputs": [],
   "source": [
    "num = 2.0"
   ]
  },
  {
   "cell_type": "code",
   "execution_count": 117,
   "id": "a41bdb11-8b3f-45cb-90c1-8ac419046c3d",
   "metadata": {},
   "outputs": [
    {
     "name": "stdout",
     "output_type": "stream",
     "text": [
      "2.0\n"
     ]
    }
   ],
   "source": [
    "print(num)"
   ]
  },
  {
   "cell_type": "code",
   "execution_count": 119,
   "id": "61a73fb5-ae25-4c37-99fa-6de74f6b375b",
   "metadata": {},
   "outputs": [
    {
     "data": {
      "text/plain": [
       "31.0"
      ]
     },
     "execution_count": 119,
     "metadata": {},
     "output_type": "execute_result"
    }
   ],
   "source": [
    "10.44 + 20.56"
   ]
  },
  {
   "cell_type": "code",
   "execution_count": 121,
   "id": "11a06fee-d900-421d-b6cf-4c186076baef",
   "metadata": {},
   "outputs": [],
   "source": [
    "num *= 2.2"
   ]
  },
  {
   "cell_type": "code",
   "execution_count": 123,
   "id": "4e471c55-994e-4d1c-bccb-526961683d47",
   "metadata": {},
   "outputs": [
    {
     "data": {
      "text/plain": [
       "4.4"
      ]
     },
     "execution_count": 123,
     "metadata": {},
     "output_type": "execute_result"
    }
   ],
   "source": [
    "num"
   ]
  },
  {
   "cell_type": "code",
   "execution_count": 125,
   "id": "0c75cfc3-5109-49ea-84e7-6662a7d72d07",
   "metadata": {},
   "outputs": [
    {
     "name": "stdout",
     "output_type": "stream",
     "text": [
      "4.4\n"
     ]
    }
   ],
   "source": [
    "print(num)"
   ]
  },
  {
   "cell_type": "markdown",
   "id": "0168e9fb-17f4-4542-9c04-5ab120022f70",
   "metadata": {},
   "source": [
    "# NÚMEROS COMPLEXOS (ENGENHARIA)"
   ]
  },
  {
   "cell_type": "code",
   "execution_count": 93,
   "id": "c2fbc062-2bbe-4c0b-af66-c98793c4636a",
   "metadata": {},
   "outputs": [
    {
     "data": {
      "text/plain": [
       "5j"
      ]
     },
     "execution_count": 93,
     "metadata": {},
     "output_type": "execute_result"
    }
   ],
   "source": [
    "5j"
   ]
  },
  {
   "cell_type": "code",
   "execution_count": 95,
   "id": "b9ae9125-0978-4e25-b7f4-b074a4af68b5",
   "metadata": {},
   "outputs": [],
   "source": [
    "y = 6 + 5j"
   ]
  },
  {
   "cell_type": "code",
   "execution_count": 97,
   "id": "bd6491f6-5a05-4d98-8ae0-366365991d9f",
   "metadata": {},
   "outputs": [
    {
     "data": {
      "text/plain": [
       "(6+5j)"
      ]
     },
     "execution_count": 97,
     "metadata": {},
     "output_type": "execute_result"
    }
   ],
   "source": [
    "y"
   ]
  },
  {
   "cell_type": "code",
   "execution_count": 99,
   "id": "6f89e032-db07-4ff6-b2c6-42a1e8ed112b",
   "metadata": {},
   "outputs": [
    {
     "data": {
      "text/plain": [
       "complex"
      ]
     },
     "execution_count": 99,
     "metadata": {},
     "output_type": "execute_result"
    }
   ],
   "source": [
    "type(y)"
   ]
  },
  {
   "cell_type": "markdown",
   "id": "644ecbf1-ffef-4790-946d-4d97d9b1cf6b",
   "metadata": {},
   "source": [
    "# TIPO BOOLEANO (BOOL)"
   ]
  },
  {
   "cell_type": "code",
   "execution_count": 102,
   "id": "598ae3fd-e0c6-4849-abe5-90dec2f050fe",
   "metadata": {},
   "outputs": [],
   "source": [
    "flag = True"
   ]
  },
  {
   "cell_type": "code",
   "execution_count": 104,
   "id": "84bbbbed-083b-4e77-9df0-d1a4161954e2",
   "metadata": {},
   "outputs": [
    {
     "data": {
      "text/plain": [
       "bool"
      ]
     },
     "execution_count": 104,
     "metadata": {},
     "output_type": "execute_result"
    }
   ],
   "source": [
    "type(flag)"
   ]
  },
  {
   "cell_type": "code",
   "execution_count": 106,
   "id": "57693ac0-5d33-42e6-9e6e-ed116faaee0f",
   "metadata": {},
   "outputs": [
    {
     "data": {
      "text/plain": [
       "True"
      ]
     },
     "execution_count": 106,
     "metadata": {},
     "output_type": "execute_result"
    }
   ],
   "source": [
    "flag"
   ]
  },
  {
   "cell_type": "code",
   "execution_count": 108,
   "id": "5060ec26-1994-434e-8781-0ebf5c8bded4",
   "metadata": {},
   "outputs": [
    {
     "data": {
      "text/plain": [
       "False"
      ]
     },
     "execution_count": 108,
     "metadata": {},
     "output_type": "execute_result"
    }
   ],
   "source": [
    "not flag"
   ]
  },
  {
   "cell_type": "code",
   "execution_count": 110,
   "id": "ab242045-b835-4807-9968-9a0774a3c54b",
   "metadata": {},
   "outputs": [],
   "source": [
    "x = flag and False"
   ]
  },
  {
   "cell_type": "code",
   "execution_count": 112,
   "id": "1836c617-c3e7-4213-8fb6-70019a678c74",
   "metadata": {},
   "outputs": [
    {
     "data": {
      "text/plain": [
       "False"
      ]
     },
     "execution_count": 112,
     "metadata": {},
     "output_type": "execute_result"
    }
   ],
   "source": [
    "x"
   ]
  },
  {
   "cell_type": "markdown",
   "id": "c17a4c1c-6dc8-4a90-8f4b-75591baaf1a5",
   "metadata": {},
   "source": [
    "# TIPO STRING"
   ]
  },
  {
   "cell_type": "code",
   "execution_count": 137,
   "id": "5b5d5e30-f560-4b7e-9431-8f2bec46c0bc",
   "metadata": {},
   "outputs": [],
   "source": [
    "letra = \"a\""
   ]
  },
  {
   "cell_type": "code",
   "execution_count": 139,
   "id": "6e770ea6-0c01-43d3-97d3-625a6ad7e2db",
   "metadata": {},
   "outputs": [
    {
     "data": {
      "text/plain": [
       "str"
      ]
     },
     "execution_count": 139,
     "metadata": {},
     "output_type": "execute_result"
    }
   ],
   "source": [
    "type(letra)"
   ]
  },
  {
   "cell_type": "code",
   "execution_count": 147,
   "id": "d1b647f7-9d95-4f9d-b9ec-085535345530",
   "metadata": {},
   "outputs": [],
   "source": [
    "frase = 'Batatinha quando nasce, espalharama pelo chão'"
   ]
  },
  {
   "cell_type": "code",
   "execution_count": 184,
   "id": "585349d2-69aa-415f-8c0d-ff66e0f3a172",
   "metadata": {},
   "outputs": [
    {
     "data": {
      "text/plain": [
       "'BATATINHA QUANDO NASCE, ESPALHARAMA PELO CHÃO'"
      ]
     },
     "execution_count": 184,
     "metadata": {},
     "output_type": "execute_result"
    }
   ],
   "source": [
    "frase.upper()"
   ]
  },
  {
   "cell_type": "code",
   "execution_count": 149,
   "id": "e0d1a819-630d-458c-8ae7-f70a741099cc",
   "metadata": {},
   "outputs": [
    {
     "data": {
      "text/plain": [
       "'Batatinha quando nasce, espalharama pelo chão'"
      ]
     },
     "execution_count": 149,
     "metadata": {},
     "output_type": "execute_result"
    }
   ],
   "source": [
    "frase"
   ]
  },
  {
   "cell_type": "code",
   "execution_count": 151,
   "id": "7f6894f3-4c35-45b3-b3cf-c08bdf5c89f9",
   "metadata": {},
   "outputs": [
    {
     "data": {
      "text/plain": [
       "str"
      ]
     },
     "execution_count": 151,
     "metadata": {},
     "output_type": "execute_result"
    }
   ],
   "source": [
    "type(frase)"
   ]
  },
  {
   "cell_type": "code",
   "execution_count": 153,
   "id": "ea30f3f2-59eb-4c37-9f10-c38cdb008840",
   "metadata": {},
   "outputs": [],
   "source": [
    "palavra = \"Python\""
   ]
  },
  {
   "cell_type": "code",
   "execution_count": 155,
   "id": "38a2ce04-6439-4f88-9d82-4d527e46acbf",
   "metadata": {},
   "outputs": [
    {
     "data": {
      "text/plain": [
       "'Python'"
      ]
     },
     "execution_count": 155,
     "metadata": {},
     "output_type": "execute_result"
    }
   ],
   "source": [
    "palavra"
   ]
  },
  {
   "cell_type": "code",
   "execution_count": 157,
   "id": "7ac3810d-c56b-4fa1-871c-d475610c548c",
   "metadata": {},
   "outputs": [
    {
     "data": {
      "text/plain": [
       "str"
      ]
     },
     "execution_count": 157,
     "metadata": {},
     "output_type": "execute_result"
    }
   ],
   "source": [
    "type(palavra)"
   ]
  },
  {
   "cell_type": "code",
   "execution_count": 159,
   "id": "e5f758cb-536e-44ac-bd72-7415fe232078",
   "metadata": {},
   "outputs": [
    {
     "data": {
      "text/plain": [
       "'P'"
      ]
     },
     "execution_count": 159,
     "metadata": {},
     "output_type": "execute_result"
    }
   ],
   "source": [
    "palavra[0]"
   ]
  },
  {
   "cell_type": "code",
   "execution_count": 176,
   "id": "5dad5a6d-62aa-4de6-98b7-127a4549f484",
   "metadata": {},
   "outputs": [
    {
     "data": {
      "text/plain": [
       "['__add__',\n",
       " '__class__',\n",
       " '__contains__',\n",
       " '__delattr__',\n",
       " '__dir__',\n",
       " '__doc__',\n",
       " '__eq__',\n",
       " '__format__',\n",
       " '__ge__',\n",
       " '__getattribute__',\n",
       " '__getitem__',\n",
       " '__getnewargs__',\n",
       " '__getstate__',\n",
       " '__gt__',\n",
       " '__hash__',\n",
       " '__init__',\n",
       " '__init_subclass__',\n",
       " '__iter__',\n",
       " '__le__',\n",
       " '__len__',\n",
       " '__lt__',\n",
       " '__mod__',\n",
       " '__mul__',\n",
       " '__ne__',\n",
       " '__new__',\n",
       " '__reduce__',\n",
       " '__reduce_ex__',\n",
       " '__repr__',\n",
       " '__rmod__',\n",
       " '__rmul__',\n",
       " '__setattr__',\n",
       " '__sizeof__',\n",
       " '__str__',\n",
       " '__subclasshook__',\n",
       " 'capitalize',\n",
       " 'casefold',\n",
       " 'center',\n",
       " 'count',\n",
       " 'encode',\n",
       " 'endswith',\n",
       " 'expandtabs',\n",
       " 'find',\n",
       " 'format',\n",
       " 'format_map',\n",
       " 'index',\n",
       " 'isalnum',\n",
       " 'isalpha',\n",
       " 'isascii',\n",
       " 'isdecimal',\n",
       " 'isdigit',\n",
       " 'isidentifier',\n",
       " 'islower',\n",
       " 'isnumeric',\n",
       " 'isprintable',\n",
       " 'isspace',\n",
       " 'istitle',\n",
       " 'isupper',\n",
       " 'join',\n",
       " 'ljust',\n",
       " 'lower',\n",
       " 'lstrip',\n",
       " 'maketrans',\n",
       " 'partition',\n",
       " 'removeprefix',\n",
       " 'removesuffix',\n",
       " 'replace',\n",
       " 'rfind',\n",
       " 'rindex',\n",
       " 'rjust',\n",
       " 'rpartition',\n",
       " 'rsplit',\n",
       " 'rstrip',\n",
       " 'split',\n",
       " 'splitlines',\n",
       " 'startswith',\n",
       " 'strip',\n",
       " 'swapcase',\n",
       " 'title',\n",
       " 'translate',\n",
       " 'upper',\n",
       " 'zfill']"
      ]
     },
     "execution_count": 176,
     "metadata": {},
     "output_type": "execute_result"
    }
   ],
   "source": [
    "dir(palavra)"
   ]
  },
  {
   "cell_type": "code",
   "execution_count": 178,
   "id": "21772ce0-b16c-4ed5-a099-b5d68be67aa1",
   "metadata": {},
   "outputs": [
    {
     "data": {
      "text/plain": [
       "'Python'"
      ]
     },
     "execution_count": 178,
     "metadata": {},
     "output_type": "execute_result"
    }
   ],
   "source": [
    "palavra"
   ]
  },
  {
   "cell_type": "code",
   "execution_count": 180,
   "id": "232651fb-3a90-4539-8ca7-9c6e0d9948c2",
   "metadata": {},
   "outputs": [
    {
     "data": {
      "text/plain": [
       "'PYTHON'"
      ]
     },
     "execution_count": 180,
     "metadata": {},
     "output_type": "execute_result"
    }
   ],
   "source": [
    "palavra.upper()"
   ]
  },
  {
   "cell_type": "code",
   "execution_count": 182,
   "id": "75751846-f25e-4509-ac2b-69879313424d",
   "metadata": {},
   "outputs": [
    {
     "data": {
      "text/plain": [
       "'Python'"
      ]
     },
     "execution_count": 182,
     "metadata": {},
     "output_type": "execute_result"
    }
   ],
   "source": [
    "palavra"
   ]
  },
  {
   "cell_type": "markdown",
   "id": "1feb681d-9f62-46a7-a37e-bf692dd2c647",
   "metadata": {},
   "source": [
    "# FUNÇÕES EMBUTIDAS"
   ]
  },
  {
   "cell_type": "code",
   "execution_count": 162,
   "id": "302960fa-a9a6-455d-8335-5b57427a2ddb",
   "metadata": {},
   "outputs": [
    {
     "data": {
      "text/plain": [
       "40"
      ]
     },
     "execution_count": 162,
     "metadata": {},
     "output_type": "execute_result"
    }
   ],
   "source": [
    "abs(40)"
   ]
  },
  {
   "cell_type": "code",
   "execution_count": 164,
   "id": "1fb3aa53-7e7f-47e0-b94d-1dab71cb8c8c",
   "metadata": {},
   "outputs": [
    {
     "data": {
      "text/plain": [
       "34"
      ]
     },
     "execution_count": 164,
     "metadata": {},
     "output_type": "execute_result"
    }
   ],
   "source": [
    "abs(-34)"
   ]
  },
  {
   "cell_type": "code",
   "execution_count": 170,
   "id": "2b9a4b91-86e5-4cd4-b8f6-92d25c1ac7c6",
   "metadata": {},
   "outputs": [
    {
     "data": {
      "text/plain": [
       "'A'"
      ]
     },
     "execution_count": 170,
     "metadata": {},
     "output_type": "execute_result"
    }
   ],
   "source": [
    "chr(65)"
   ]
  },
  {
   "cell_type": "code",
   "execution_count": 172,
   "id": "ba1ab741-b78b-447f-b18a-76a0c4573388",
   "metadata": {},
   "outputs": [
    {
     "data": {
      "text/plain": [
       "122"
      ]
     },
     "execution_count": 172,
     "metadata": {},
     "output_type": "execute_result"
    }
   ],
   "source": [
    "ord('z')"
   ]
  },
  {
   "cell_type": "code",
   "execution_count": 174,
   "id": "df2ea1f0-2adb-4aa7-88a9-6880d9a49ba8",
   "metadata": {},
   "outputs": [
    {
     "data": {
      "text/plain": [
       "'z'"
      ]
     },
     "execution_count": 174,
     "metadata": {},
     "output_type": "execute_result"
    }
   ],
   "source": [
    "chr(122)"
   ]
  },
  {
   "cell_type": "code",
   "execution_count": 186,
   "id": "4ce021db-5a2e-4fa9-a482-18dd2ea200e7",
   "metadata": {},
   "outputs": [
    {
     "name": "stdout",
     "output_type": "stream",
     "text": [
      "Help on built-in function ord in module builtins:\n",
      "\n",
      "ord(c, /)\n",
      "    Return the Unicode code point for a one-character string.\n",
      "\n"
     ]
    }
   ],
   "source": [
    "help(ord)"
   ]
  },
  {
   "cell_type": "code",
   "execution_count": null,
   "id": "7bea21fc-9255-48cb-aa35-51c3227fc728",
   "metadata": {},
   "outputs": [],
   "source": []
  }
 ],
 "metadata": {
  "kernelspec": {
   "display_name": "Python 3 (ipykernel)",
   "language": "python",
   "name": "python3"
  },
  "language_info": {
   "codemirror_mode": {
    "name": "ipython",
    "version": 3
   },
   "file_extension": ".py",
   "mimetype": "text/x-python",
   "name": "python",
   "nbconvert_exporter": "python",
   "pygments_lexer": "ipython3",
   "version": "3.12.7"
  }
 },
 "nbformat": 4,
 "nbformat_minor": 5
}
