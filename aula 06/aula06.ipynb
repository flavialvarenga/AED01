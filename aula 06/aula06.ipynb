{
 "cells": [
  {
   "cell_type": "markdown",
   "id": "8b811c7c-1a2e-427a-8e11-57f9df2785da",
   "metadata": {},
   "source": [
    "# COMANDOS DE ENTRADA E SAÍDA"
   ]
  },
  {
   "cell_type": "code",
   "execution_count": 4,
   "id": "23456600-3924-41fb-8647-f64d14b0d653",
   "metadata": {},
   "outputs": [],
   "source": [
    "nome = \"Flávia\"\n",
    "idade = 30"
   ]
  },
  {
   "cell_type": "code",
   "execution_count": 6,
   "id": "24344076-9450-4fea-a213-8a6bd60110fa",
   "metadata": {},
   "outputs": [
    {
     "name": "stdout",
     "output_type": "stream",
     "text": [
      "Flávia  tem  30  anos! \n"
     ]
    }
   ],
   "source": [
    "print(nome, \" tem \", idade, \" anos! \")"
   ]
  },
  {
   "cell_type": "code",
   "execution_count": 8,
   "id": "85fea0bc-cac8-4d93-8204-774488218901",
   "metadata": {},
   "outputs": [
    {
     "name": "stdin",
     "output_type": "stream",
     "text": [
      "Digite o seu nome:  Sartori\n"
     ]
    }
   ],
   "source": [
    "nome = input(\"Digite o seu nome: \")"
   ]
  },
  {
   "cell_type": "code",
   "execution_count": 10,
   "id": "3cb3b0ce-d82c-45e8-8212-45b54aeedbc7",
   "metadata": {},
   "outputs": [
    {
     "name": "stdout",
     "output_type": "stream",
     "text": [
      "Sartori\n"
     ]
    }
   ],
   "source": [
    "print(nome)"
   ]
  },
  {
   "cell_type": "code",
   "execution_count": 12,
   "id": "4e93ff3f-4415-4173-9610-8b2777be6248",
   "metadata": {},
   "outputs": [
    {
     "data": {
      "text/plain": [
       "str"
      ]
     },
     "execution_count": 12,
     "metadata": {},
     "output_type": "execute_result"
    }
   ],
   "source": [
    "type(nome)"
   ]
  },
  {
   "cell_type": "code",
   "execution_count": 14,
   "id": "2566877f-5fa8-4c29-ae80-4aa811fe342f",
   "metadata": {},
   "outputs": [
    {
     "name": "stdin",
     "output_type": "stream",
     "text": [
      "Digite a sua idade:  31\n"
     ]
    }
   ],
   "source": [
    "idade = input(\"Digite a sua idade: \")"
   ]
  },
  {
   "cell_type": "code",
   "execution_count": 18,
   "id": "13a12f5b-9c08-49c2-88c9-fcab8f1a937d",
   "metadata": {},
   "outputs": [
    {
     "data": {
      "text/plain": [
       "'31'"
      ]
     },
     "execution_count": 18,
     "metadata": {},
     "output_type": "execute_result"
    }
   ],
   "source": [
    "idade"
   ]
  },
  {
   "cell_type": "code",
   "execution_count": 20,
   "id": "873d73cc-fc1b-4de5-b281-59bf2273d7c5",
   "metadata": {},
   "outputs": [],
   "source": [
    "idade = int(idade)"
   ]
  },
  {
   "cell_type": "code",
   "execution_count": 22,
   "id": "1d32af6c-5a86-4614-8258-cb1da933afb3",
   "metadata": {},
   "outputs": [
    {
     "data": {
      "text/plain": [
       "31"
      ]
     },
     "execution_count": 22,
     "metadata": {},
     "output_type": "execute_result"
    }
   ],
   "source": [
    "idade"
   ]
  },
  {
   "cell_type": "code",
   "execution_count": 24,
   "id": "45ab102a-1f39-44af-bd4b-862cee9d0ef7",
   "metadata": {},
   "outputs": [
    {
     "data": {
      "text/plain": [
       "int"
      ]
     },
     "execution_count": 24,
     "metadata": {},
     "output_type": "execute_result"
    }
   ],
   "source": [
    "type(idade)"
   ]
  },
  {
   "cell_type": "code",
   "execution_count": 26,
   "id": "c45f9188-f7a2-4cb0-8d18-06b366a88571",
   "metadata": {},
   "outputs": [
    {
     "name": "stdin",
     "output_type": "stream",
     "text": [
      "Digite sua idade:  32\n"
     ]
    }
   ],
   "source": [
    "idade = int(input(\"Digite sua idade: \"))"
   ]
  },
  {
   "cell_type": "code",
   "execution_count": 28,
   "id": "f5fa57bf-2a4f-44ec-b31b-6033b07063bb",
   "metadata": {},
   "outputs": [
    {
     "data": {
      "text/plain": [
       "32"
      ]
     },
     "execution_count": 28,
     "metadata": {},
     "output_type": "execute_result"
    }
   ],
   "source": [
    "idade"
   ]
  },
  {
   "cell_type": "code",
   "execution_count": 30,
   "id": "c8288d16-a97e-4085-8f64-e7e17598ac7b",
   "metadata": {},
   "outputs": [
    {
     "data": {
      "text/plain": [
       "int"
      ]
     },
     "execution_count": 30,
     "metadata": {},
     "output_type": "execute_result"
    }
   ],
   "source": [
    "type(idade)"
   ]
  },
  {
   "cell_type": "code",
   "execution_count": 32,
   "id": "2f893d40-21dc-4ff0-8ea8-f37ab14db7f9",
   "metadata": {},
   "outputs": [],
   "source": [
    "idade = float(idade)"
   ]
  },
  {
   "cell_type": "code",
   "execution_count": 34,
   "id": "c578fd4d-b389-45db-8864-57440043f5bd",
   "metadata": {},
   "outputs": [
    {
     "data": {
      "text/plain": [
       "32.0"
      ]
     },
     "execution_count": 34,
     "metadata": {},
     "output_type": "execute_result"
    }
   ],
   "source": [
    "idade"
   ]
  },
  {
   "cell_type": "code",
   "execution_count": 36,
   "id": "ecf29e55-8b1a-4fcb-90da-7706ba9d4690",
   "metadata": {},
   "outputs": [
    {
     "data": {
      "text/plain": [
       "float"
      ]
     },
     "execution_count": 36,
     "metadata": {},
     "output_type": "execute_result"
    }
   ],
   "source": [
    "type(idade)"
   ]
  },
  {
   "cell_type": "code",
   "execution_count": 38,
   "id": "d03a2c12-1836-4f95-82db-2d7e9a207416",
   "metadata": {},
   "outputs": [],
   "source": [
    "idade = int(idade)"
   ]
  },
  {
   "cell_type": "code",
   "execution_count": 40,
   "id": "8567397f-0c88-4177-b0bb-1dc8560737cf",
   "metadata": {},
   "outputs": [
    {
     "data": {
      "text/plain": [
       "32"
      ]
     },
     "execution_count": 40,
     "metadata": {},
     "output_type": "execute_result"
    }
   ],
   "source": [
    "idade"
   ]
  },
  {
   "cell_type": "code",
   "execution_count": 42,
   "id": "a380b449-1217-46ca-ab19-99dd0dab9f34",
   "metadata": {},
   "outputs": [
    {
     "data": {
      "text/plain": [
       "int"
      ]
     },
     "execution_count": 42,
     "metadata": {},
     "output_type": "execute_result"
    }
   ],
   "source": [
    "type(idade)"
   ]
  },
  {
   "cell_type": "code",
   "execution_count": 44,
   "id": "0385ce61-5918-422d-b841-a6525ff0b9a2",
   "metadata": {},
   "outputs": [],
   "source": [
    "idade = str(idade)"
   ]
  },
  {
   "cell_type": "code",
   "execution_count": 46,
   "id": "a7ff0592-4f4c-4c12-a9a8-e93bbbd79a4c",
   "metadata": {},
   "outputs": [
    {
     "data": {
      "text/plain": [
       "'32'"
      ]
     },
     "execution_count": 46,
     "metadata": {},
     "output_type": "execute_result"
    }
   ],
   "source": [
    "idade"
   ]
  },
  {
   "cell_type": "code",
   "execution_count": 50,
   "id": "d8b943b0-b4ee-4e82-928b-efdb8946c69c",
   "metadata": {},
   "outputs": [
    {
     "name": "stdin",
     "output_type": "stream",
     "text": [
      "Digite o lado maior:  5\n",
      "Digite o lado menor:  3\n"
     ]
    },
    {
     "name": "stdout",
     "output_type": "stream",
     "text": [
      "A area do quadrilátero é:  15.0\n"
     ]
    }
   ],
   "source": [
    "lado1 = float(input(\"Digite o lado maior: \"))\n",
    "lado2 = float(input(\"Digite o lado menor: \"))\n",
    "area = lado1 * lado2\n",
    "print(\"A area do quadrilátero é: \", area)"
   ]
  },
  {
   "cell_type": "code",
   "execution_count": null,
   "id": "5ab5bd67-a232-4a31-a8df-35e964f40637",
   "metadata": {},
   "outputs": [],
   "source": []
  }
 ],
 "metadata": {
  "kernelspec": {
   "display_name": "Python 3 (ipykernel)",
   "language": "python",
   "name": "python3"
  },
  "language_info": {
   "codemirror_mode": {
    "name": "ipython",
    "version": 3
   },
   "file_extension": ".py",
   "mimetype": "text/x-python",
   "name": "python",
   "nbconvert_exporter": "python",
   "pygments_lexer": "ipython3",
   "version": "3.12.7"
  }
 },
 "nbformat": 4,
 "nbformat_minor": 5
}
