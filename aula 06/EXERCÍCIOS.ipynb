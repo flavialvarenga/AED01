{
 "cells": [
  {
   "cell_type": "markdown",
   "id": "cd571956-9b29-4466-bcb6-25a86c244a66",
   "metadata": {},
   "source": [
    "### EXERCÍCIO 0"
   ]
  },
  {
   "cell_type": "markdown",
   "id": "c8c83aaa-c85c-4c66-908b-9114c572c2de",
   "metadata": {},
   "source": [
    "Faça um programa para ler e escrever na tela o seu\n",
    "nome e a sua idade."
   ]
  },
  {
   "cell_type": "code",
   "execution_count": 20,
   "id": "4f81f819-c46d-4844-85ca-1c57da6681ab",
   "metadata": {},
   "outputs": [
    {
     "name": "stdin",
     "output_type": "stream",
     "text": [
      "Digite o seu nome:  Flávia\n",
      "Digite a sua idade:  30\n"
     ]
    },
    {
     "name": "stdout",
     "output_type": "stream",
     "text": [
      "\n",
      "O seu nome é Flávia e você tem 30 anos!\n"
     ]
    }
   ],
   "source": [
    "nome = input(\"Digite o seu nome: \")\n",
    "idade = int(input(\"Digite a sua idade: \"))\n",
    "\n",
    "print(\"\\nO seu nome é\", nome,\"e você tem\", idade, \"anos!\")"
   ]
  },
  {
   "cell_type": "markdown",
   "id": "6b2c6fb5-cca9-4f78-9e6f-cac03202b550",
   "metadata": {},
   "source": [
    "### EXERCÍCIO 1"
   ]
  },
  {
   "cell_type": "markdown",
   "id": "f49009c1-20e1-46e9-ab4f-dc4bc9b5893a",
   "metadata": {},
   "source": [
    "Escreva um algoritmo que receba o nome do\n",
    "usuário e lhe deseje “Bom-dia!”."
   ]
  },
  {
   "cell_type": "code",
   "execution_count": 46,
   "id": "1c4403de-3267-4670-955a-7ae9c67e59bc",
   "metadata": {},
   "outputs": [
    {
     "name": "stdin",
     "output_type": "stream",
     "text": [
      "Digite o seu nome:  Flávia\n"
     ]
    },
    {
     "name": "stdout",
     "output_type": "stream",
     "text": [
      "\n",
      "Olá Flávia , desejo que tenha um Bom-dia!\n"
     ]
    }
   ],
   "source": [
    "nome = input(\"Digite o seu nome: \")\n",
    "print(\"\\nOlá\",nome,\", desejo que tenha um Bom-dia!\")"
   ]
  },
  {
   "cell_type": "markdown",
   "id": "495f500a-9dd2-440b-a18e-7154df04deec",
   "metadata": {},
   "source": [
    "### EXERCÍCIO 2"
   ]
  },
  {
   "cell_type": "markdown",
   "id": "b608180d-e995-4171-83a2-c27594ae05be",
   "metadata": {},
   "source": [
    "Faça um algoritmo que receba o ano de nascimento\n",
    "de uma pessoa e o ano atual e mostre:  \n",
    " a) A idade dessa pessoa em anos;  \n",
    " b) A idade dessa pessoa em meses;  \n",
    " c) A idade dessa pessoa em dias;  \n",
    " d) A idade dessa pessoa em semanas."
   ]
  },
  {
   "cell_type": "code",
   "execution_count": 237,
   "id": "40ff548f-bc48-4c7e-8f3a-45ecaab9dc4e",
   "metadata": {},
   "outputs": [
    {
     "name": "stdin",
     "output_type": "stream",
     "text": [
      "Digite o ano do seu nascimento:  1994\n",
      "Digite o ano atual:  2025\n"
     ]
    },
    {
     "name": "stdout",
     "output_type": "stream",
     "text": [
      "\n",
      "Sua idade é de 31 anos, 372 meses, 11315 dias e 1616 semanas!\n"
     ]
    }
   ],
   "source": [
    "nascimento = int(input(\"Digite o ano do seu nascimento: \"))\n",
    "ano = int(input(\"Digite o ano atual: \"))\n",
    "#cálculo\n",
    "anos = ano - nascimento\n",
    "meses = anos * 12 \n",
    "dias = int(anos * 365)\n",
    "semanas = int(dias / 7)\n",
    "print(\"\\nSua idade é de\", anos, \"anos,\" ,meses, \"meses,\", dias, \"dias e\", semanas, \"semanas!\")"
   ]
  },
  {
   "cell_type": "markdown",
   "id": "3eee27e1-d5a2-4f58-8dee-60dca17f78dc",
   "metadata": {},
   "source": [
    "### EXERCÍCIO 3"
   ]
  },
  {
   "cell_type": "markdown",
   "id": "05f5c989-0d88-4d29-9168-abd11bac6e97",
   "metadata": {},
   "source": [
    "Faça um algoritmo que receba o salário de um\n",
    "funcionário, calcule e mostre o novo salário,\n",
    "sabendo-se que este sofreu um aumento de\n",
    "25%."
   ]
  },
  {
   "cell_type": "code",
   "execution_count": 307,
   "id": "fe5de6e3-e3e8-4927-b2ec-767547774bf0",
   "metadata": {},
   "outputs": [
    {
     "name": "stdin",
     "output_type": "stream",
     "text": [
      "Digite o salário do funcionário:  2500\n"
     ]
    },
    {
     "name": "stdout",
     "output_type": "stream",
     "text": [
      "\n",
      "O novo salário do funcionário é de R$ 3125.0\n"
     ]
    }
   ],
   "source": [
    "salario = int(input(\"Digite o salário do funcionário: \"))\n",
    "novo = (salario * 1.25)\n",
    "print(\"\\nO novo salário do funcionário é de R$\", str(novo) [:6])"
   ]
  },
  {
   "cell_type": "markdown",
   "id": "b32f2b0a-027d-4b16-849a-1446b1d4ef7d",
   "metadata": {},
   "source": [
    "### EXERCÍCIO 4"
   ]
  },
  {
   "cell_type": "markdown",
   "id": "f4ceb732-009f-41b7-9d3b-88d993f4ed14",
   "metadata": {},
   "source": [
    "Faça um algoritmo que receba o salário de um\n",
    "funcionário e o percentual de aumento, calcule e\n",
    "mostre o valor do aumento e o novo salário."
   ]
  },
  {
   "cell_type": "code",
   "execution_count": 221,
   "id": "90b54e1a-a652-4d37-9e75-dbd4110faeb1",
   "metadata": {},
   "outputs": [
    {
     "name": "stdin",
     "output_type": "stream",
     "text": [
      "Digite o salário atual:  2000\n",
      "Digite o percentual de aumento:  25\n"
     ]
    },
    {
     "name": "stdout",
     "output_type": "stream",
     "text": [
      "\n",
      "O aumento foi de 25 % e o salário atual é de R$ 2500.0\n"
     ]
    }
   ],
   "source": [
    "salario = int(input(\"Digite o salário atual: \"))\n",
    "percentual = int(input(\"Digite o percentual de aumento: \"))\n",
    "novo = (salario * (1 + percentual / 100))\n",
    "print(\"\\nO aumento foi de\" ,percentual ,\"%\" \" e o salário atual é de R$\" , str(novo) [:6])"
   ]
  },
  {
   "cell_type": "markdown",
   "id": "eddb3d4e-b56a-41d7-b1d2-4e62c2899bb3",
   "metadata": {},
   "source": [
    "### EXERCÍCIO 5"
   ]
  },
  {
   "cell_type": "markdown",
   "id": "6fa45dd6-27d5-4652-a210-ed00b0c3bc51",
   "metadata": {},
   "source": [
    "Faça um algoritmo que receba o valor de um\n",
    "depósito e o valor da taxa de juros, calcule e mostre\n",
    "o valor do rendimento e o valor total depois do\n",
    "rendimento."
   ]
  },
  {
   "cell_type": "code",
   "execution_count": 305,
   "id": "df1110e1-df4e-42d6-b410-88b96859387a",
   "metadata": {},
   "outputs": [
    {
     "name": "stdin",
     "output_type": "stream",
     "text": [
      "Infome o valor do depósito:  1000\n",
      "Informe o valor da taxa de juros (%):  5\n"
     ]
    },
    {
     "name": "stdout",
     "output_type": "stream",
     "text": [
      "\n",
      "O valor do rendimento é de R$ 50.0\n",
      "O valor total é de R$ 1050.0\n"
     ]
    }
   ],
   "source": [
    "deposito = float(input(\"Infome o valor do depósito: \"))\n",
    "juros = float(input(\"Informe o valor da taxa de juros (%): \"))\n",
    "rendimento = deposito * (juros / 100)\n",
    "total = deposito + rendimento\n",
    "print(\"\\nO valor do rendimento é de R$\" , rendimento)\n",
    "print(\"O valor total é de R$\" , total)"
   ]
  },
  {
   "cell_type": "markdown",
   "id": "d5452c9d-a34a-4f1d-8a85-26155ab554ac",
   "metadata": {},
   "source": [
    "### EXERCÍCIO 6"
   ]
  },
  {
   "cell_type": "markdown",
   "id": "c6d17bc1-3b58-4c87-a821-09b716dc423f",
   "metadata": {},
   "source": [
    "Faça um algoritmo que calcule e mostre a área\n",
    "de um triângulo. Sabe-se que Área = (base *\n",
    "altura)/2"
   ]
  },
  {
   "cell_type": "code",
   "execution_count": 215,
   "id": "6bcaf5cf-ac5c-4e05-8bb8-a1e195886793",
   "metadata": {},
   "outputs": [
    {
     "name": "stdin",
     "output_type": "stream",
     "text": [
      "Digite a base do triângulo:  25\n",
      "Digite a altura do triângulo:  8\n"
     ]
    },
    {
     "name": "stdout",
     "output_type": "stream",
     "text": [
      "\n",
      "A área do triângulo é de 100 cm²\n"
     ]
    }
   ],
   "source": [
    "base = float(input(\"Digite a base do triângulo: \"))\n",
    "altura = float(input(\"Digite a altura do triângulo: \"))\n",
    "area = (base * altura) / 2\n",
    "print(\"\\nA área do triângulo é de\" , str(area)[:3] ,\"cm²\")"
   ]
  },
  {
   "cell_type": "markdown",
   "id": "2d2174f3-b214-40b4-b401-c6c531bf61e7",
   "metadata": {},
   "source": [
    "### EXERCÍCIO 7"
   ]
  },
  {
   "cell_type": "markdown",
   "id": "f067c9de-21f0-4a40-bf00-d94cbc881143",
   "metadata": {},
   "source": [
    "Faça um algoritmo que calcule e mostre a área de um\n",
    "círculo. Sabe-se que  \n",
    "Area= π * R2  \n",
    "π = 3,1415"
   ]
  },
  {
   "cell_type": "code",
   "execution_count": 211,
   "id": "6220635e-ee69-422d-acb0-94a49a010e68",
   "metadata": {},
   "outputs": [
    {
     "name": "stdin",
     "output_type": "stream",
     "text": [
      "Digite o raio do círculo:  10\n"
     ]
    },
    {
     "name": "stdout",
     "output_type": "stream",
     "text": [
      "\n",
      "A área do círculo é de 314. cm²\n"
     ]
    }
   ],
   "source": [
    "raio = int(input(\"Digite o raio do círculo: \"))\n",
    "PI = 3.1415\n",
    "area = (PI * (raio ** 2))\n",
    "print(\"\\nA área do círculo é de\" , str(area)[:4] ,\"cm²\")"
   ]
  },
  {
   "cell_type": "markdown",
   "id": "24edb004-f6f2-4090-9174-e31886925af6",
   "metadata": {},
   "source": [
    "### EXERCÍCIO 8"
   ]
  },
  {
   "cell_type": "markdown",
   "id": "bc7d9a3a-9f27-4f81-b907-056c4b4cf2f6",
   "metadata": {},
   "source": [
    "Sabe-se que:  \n",
    "• 1 pé = 12 polegadas  \n",
    "• 1 jarda = 3 pés  \n",
    "• 1 milha = 1760 jardas  \n",
    "Faça um algoritmo que receba uma medida em pés,\n",
    "faça as conversões a seguir e mostre os resultados:  \n",
    "a) Polegadas  \n",
    "b) Jardas  \n",
    "c) milhas"
   ]
  },
  {
   "cell_type": "code",
   "execution_count": 277,
   "id": "51dac943-eeb4-45bf-9f04-dff011c99b85",
   "metadata": {},
   "outputs": [
    {
     "name": "stdin",
     "output_type": "stream",
     "text": [
      "Digite a medida em pés:  5\n"
     ]
    },
    {
     "name": "stdout",
     "output_type": "stream",
     "text": [
      "\n",
      "a) O valor é de 60 em Polegadas.\n",
      "b) O valor é de 1.6666 em Jardas.\n",
      "c) O valor é de 0.0028 em Milhas.\n"
     ]
    }
   ],
   "source": [
    "pes = int(input(\"Digite a medida em pés: \"))\n",
    "polegadas = pes * 12\n",
    "jardas = pes / 3\n",
    "milhas = pes / 1760\n",
    "print(\"\\na) O valor é de\", polegadas,\"em Polegadas.\")\n",
    "print(\"b) O valor é de\", str(jardas)[:6],\"em Jardas.\")\n",
    "print(\"c) O valor é de\", str(milhas)[:6],\"em Milhas.\")"
   ]
  },
  {
   "cell_type": "markdown",
   "id": "1f8182cb-18b1-498b-9a31-a2cb58d51de4",
   "metadata": {},
   "source": [
    "### EXERCÍCIO 9"
   ]
  },
  {
   "cell_type": "markdown",
   "id": "fa2bde6b-77aa-40f5-a8d8-d8ad23836d65",
   "metadata": {},
   "source": [
    "Cada degrau de uma escada tem Xcm de altura. Faça\n",
    "um algoritmo que receba a altura de cada degrau em\n",
    "cm e a altura que o usuário deseja alcançar subindo a\n",
    "escada (em metros). Faça as conversões, calcule e\n",
    "mostre quantos degraus o usuário deverá subir para\n",
    "atingir seu objetivo.  \n",
    "\n",
    "Obs: não se preocupe com a altura do usuário!"
   ]
  },
  {
   "cell_type": "code",
   "execution_count": 299,
   "id": "73384b1e-68b0-4990-b76e-435d8f269457",
   "metadata": {},
   "outputs": [
    {
     "name": "stdin",
     "output_type": "stream",
     "text": [
      "Informe a altura de cada degrau em cm:  20\n",
      "Informe a altura que deseja alcançar em metros:  2\n"
     ]
    },
    {
     "name": "stdout",
     "output_type": "stream",
     "text": [
      "\n",
      "Você deverá subir 10.0 degraus para atingir o seu objetivo!\n"
     ]
    }
   ],
   "source": [
    "h1 = float(input(\"Informe a altura de cada degrau em cm: \")) \n",
    "h2 = float(input(\"Informe a altura que deseja alcançar em metros: \")) \n",
    "# Conversão da altura desejada de metros para centímetros\n",
    "h2_convertido = h2 * 100\n",
    "# Cálculo da quantidade de degraus necessários\n",
    "x = h2_convertido / h1\n",
    "print(\"\\nVocê deverá subir\", x,\"degraus para atingir o seu objetivo!\")"
   ]
  },
  {
   "cell_type": "markdown",
   "id": "fd7008aa-22b5-4c30-b4a2-60b2dd501104",
   "metadata": {},
   "source": [
    "### EXERCÍCIO 10"
   ]
  },
  {
   "attachments": {
    "155cbe70-e68a-49c2-942d-2c5024dee4fb.png": {
     "image/png": "[encoded data removed]"
    }
   },
   "cell_type": "markdown",
   "id": "59f70d67-a1f9-443e-a815-5677356a046e",
   "metadata": {},
   "source": [
    "Faça um programa que receba o preço líquido de um produto e o\n",
    "seu código de origem e mostre a sua procedência e o preço final,\n",
    "calculado pelo imposto relativo a sua procedência. A procedência\n",
    "obedece a tabela a seguir:  \n",
    "![Captura de tela 2025-04-02 170929.png](attachment:155cbe70-e68a-49c2-942d-2c5024dee4fb.png)"
   ]
  },
  {
   "cell_type": "code",
   "execution_count": 367,
   "id": "f6c96849-311c-473b-b35a-a1756b6bd904",
   "metadata": {},
   "outputs": [
    {
     "name": "stdin",
     "output_type": "stream",
     "text": [
      "Informe o preço líquido do produto:  200\n",
      "Informe o código de origem:  3\n"
     ]
    },
    {
     "name": "stdout",
     "output_type": "stream",
     "text": [
      "\n",
      "A procedência é do Nordeste . E o preço final é de R$ 218.0 .\n"
     ]
    }
   ],
   "source": [
    "preço = int(input(\"Informe o preço líquido do produto: \"))\n",
    "origem = int(input(\"Informe o código de origem: \"))\n",
    "\n",
    "tabela_impostos = {\n",
    "    1: (\"Sul\", 11),\n",
    "    2: (\"Norte\", 13),\n",
    "    3: (\"Nordeste\", 9),\n",
    "    4: (\"Centro-Oeste\", 12),\n",
    "    5: (\"Sudeste\", 18)\n",
    "}\n",
    "\n",
    "if origem in tabela_impostos:\n",
    "    procedencia, imposto = tabela_impostos[origem]\n",
    "\n",
    "#Cálculo do valor do imposto\n",
    "valor = preço * (imposto / 100)\n",
    "#Cálculo do preço final\n",
    "final = preço + valor\n",
    "\n",
    "print(\"\\nA procedência é do\", procedencia ,\". E o preço final é de R$\" , final,\".\")"
   ]
  }
 ],
 "metadata": {
  "kernelspec": {
   "display_name": "Python 3 (ipykernel)",
   "language": "python",
   "name": "python3"
  },
  "language_info": {
   "codemirror_mode": {
    "name": "ipython",
    "version": 3
   },
   "file_extension": ".py",
   "mimetype": "text/x-python",
   "name": "python",
   "nbconvert_exporter": "python",
   "pygments_lexer": "ipython3",
   "version": "3.12.7"
  }
 },
 "nbformat": 4,
 "nbformat_minor": 5
}
