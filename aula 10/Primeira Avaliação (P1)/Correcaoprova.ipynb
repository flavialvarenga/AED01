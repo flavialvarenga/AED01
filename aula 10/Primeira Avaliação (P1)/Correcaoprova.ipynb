{
 "cells": [
  {
   "cell_type": "markdown",
   "id": "7763ee34-dffa-4a1a-9d14-112c39ca38ff",
   "metadata": {},
   "source": [
    "## Primeira Avaliação (p1) - CORREÇÃO\n",
    "\n",
    "Você deve receber 3 valores inteiros positivos. E deve retornar a média aritmética dos dois maiores valores."
   ]
  },
  {
   "cell_type": "code",
   "execution_count": 1,
   "id": "688ed025-7497-4805-a12a-030f95423a5b",
   "metadata": {},
   "outputs": [
    {
     "name": "stdin",
     "output_type": "stream",
     "text": [
      "Digite o primeiro valor inteiro positivo:  5\n",
      "Digite o segundo valor inteiro positivo:  8\n",
      "Digite o terceiro valor inteiro positivo:  9\n"
     ]
    },
    {
     "name": "stdout",
     "output_type": "stream",
     "text": [
      "A media dos dois maiores valores é:  8.5\n"
     ]
    }
   ],
   "source": [
    "# recebe os três valores inteiros positivos\n",
    "v1 = int(input(\"Digite o primeiro valor inteiro positivo: \"))\n",
    "v2 = int(input(\"Digite o segundo valor inteiro positivo: \"))\n",
    "v3 = int(input(\"Digite o terceiro valor inteiro positivo: \"))\n",
    "\n",
    "# descobre o menor valor e identifica os dois maiores\n",
    "if  v1 < v2 and v1 < v3:\n",
    "    menor = v1\n",
    "    maior1 = v2\n",
    "    maior2 = v3\n",
    "    \n",
    "elif v2 < v2 and v2 <v3:\n",
    "    menor = v2\n",
    "    maior1 = v1\n",
    "    maior2 = v3\n",
    "\n",
    "else:\n",
    "    menor = v3\n",
    "    maior1 = v2\n",
    "    maior2 = v2\n",
    "\n",
    "# calcula a média dos dois maiores valores\n",
    "media = (maior1 + maior2) / 2 \n",
    "\n",
    "# mostra o resultado\n",
    "print(\"A media dos dois maiores valores é: \" , media)\n"
   ]
  },
  {
   "cell_type": "code",
   "execution_count": null,
   "id": "cd8d4761-174e-4ff3-afb3-17cf840617f4",
   "metadata": {},
   "outputs": [],
   "source": []
  }
 ],
 "metadata": {
  "kernelspec": {
   "display_name": "Python 3 (ipykernel)",
   "language": "python",
   "name": "python3"
  },
  "language_info": {
   "codemirror_mode": {
    "name": "ipython",
    "version": 3
   },
   "file_extension": ".py",
   "mimetype": "text/x-python",
   "name": "python",
   "nbconvert_exporter": "python",
   "pygments_lexer": "ipython3",
   "version": "3.12.7"
  }
 },
 "nbformat": 4,
 "nbformat_minor": 5
}
