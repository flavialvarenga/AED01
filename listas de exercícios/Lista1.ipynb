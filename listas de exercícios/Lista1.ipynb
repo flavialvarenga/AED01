{
 "cells": [
  {
   "cell_type": "markdown",
   "id": "07c5e759-21e5-4957-9224-91b2df4eb93e",
   "metadata": {},
   "source": [
    "# PARTE 1: CONDICIONAIS"
   ]
  },
  {
   "cell_type": "markdown",
   "id": "ef4c1903-9b33-44df-8980-7ab84a144868",
   "metadata": {},
   "source": [
    "#### Exercício 0\n",
    "Faça um algoritmo para ler um número e mostrar se ele é par ou impar, positivo ou negativo."
   ]
  },
  {
   "cell_type": "code",
   "execution_count": 185,
   "id": "c46f88dc-8155-44c7-9530-7340ab06b520",
   "metadata": {},
   "outputs": [
    {
     "name": "stdin",
     "output_type": "stream",
     "text": [
      "Digite um número:  8\n"
     ]
    },
    {
     "name": "stdout",
     "output_type": "stream",
     "text": [
      "Esse número é positivo!\n",
      "Esse número é par!\n"
     ]
    }
   ],
   "source": [
    "numero = float(input(\"Digite um número: \"))\n",
    "if numero >= 0:\n",
    "    print(\"Esse número é positivo!\")\n",
    "elif numero < 0:\n",
    "    print(\"Esse número é negativo!\")\n",
    "if numero % 2 == 0:\n",
    "    print(\"Esse número é par!\")\n",
    "else:\n",
    "    print(\"Esse número é impar!\")"
   ]
  },
  {
   "cell_type": "markdown",
   "id": "cc42c9c0-e110-4f74-8c9c-786ad66446bb",
   "metadata": {},
   "source": [
    "#### Exercício 1  \n",
    "\n",
    "Faça um Programa que peça dois números e imprima o maior deles.\n"
   ]
  },
  {
   "cell_type": "code",
   "execution_count": 449,
   "id": "d9ae16a1-4c02-4c54-99b1-974bb1967aa0",
   "metadata": {},
   "outputs": [
    {
     "name": "stdin",
     "output_type": "stream",
     "text": [
      "Digite o primeiro número:  5\n",
      "Digite o segundo número:  8\n"
     ]
    },
    {
     "name": "stdout",
     "output_type": "stream",
     "text": [
      "\n",
      "O maior valor é 8 !\n"
     ]
    }
   ],
   "source": [
    "numero1 = int(input(\"Digite o primeiro número: \"))\n",
    "numero2 = int(input(\"Digite o segundo número: \"))\n",
    "\n",
    "if numero1 > numero2:\n",
    "    print(\"\\nO maior valor é\" , numero1 , \"!\")\n",
    "else:\n",
    "    print(\"\\nO maior valor é\" , numero2 ,\"!\")"
   ]
  },
  {
   "cell_type": "code",
   "execution_count": 455,
   "id": "629a8a80-33ac-44e9-8073-2ac53e9ea557",
   "metadata": {},
   "outputs": [
    {
     "name": "stdin",
     "output_type": "stream",
     "text": [
      "Digite o primeiro número:  5\n",
      "Digite o segundo número:  5\n"
     ]
    },
    {
     "name": "stdout",
     "output_type": "stream",
     "text": [
      "\n",
      "Os números são iguais!\n"
     ]
    }
   ],
   "source": [
    "numero1 = int(input(\"Digite o primeiro número: \"))\n",
    "numero2 = int(input(\"Digite o segundo número: \"))\n",
    "\n",
    "if numero1 > numero2:\n",
    "    print(\"\\nO maior valor é\" , numero1 , \"!\")\n",
    "elif numero2 > numero1:\n",
    "    print(\"\\nO maior valor é\" , numero2 , \"!\")\n",
    "#resolução do professor\n",
    "else:\n",
    "    print(\"\\nOs números são iguais!\")"
   ]
  },
  {
   "cell_type": "markdown",
   "id": "ee15bcb6-f2ab-4087-baab-f7d8f30b39e4",
   "metadata": {},
   "source": [
    "#### Exercício 2 \n",
    "\n",
    "Faça um Programa que peça um valor e mostre na tela se o valor é positivo ou negativo.\n"
   ]
  },
  {
   "cell_type": "code",
   "execution_count": 181,
   "id": "1d24ef1c-1a79-44e9-8e88-b4e6a9bf483c",
   "metadata": {},
   "outputs": [
    {
     "name": "stdin",
     "output_type": "stream",
     "text": [
      "Digite um valor:  -3.2\n"
     ]
    },
    {
     "name": "stdout",
     "output_type": "stream",
     "text": [
      "Esse número é negativo!\n"
     ]
    }
   ],
   "source": [
    "numero = float(input(\"Digite um valor: \"))\n",
    "if numero >= 0:\n",
    "    print(\"Esse número é positivo!\")\n",
    "else:\n",
    "    print(\"Esse número é negativo!\")"
   ]
  },
  {
   "cell_type": "code",
   "execution_count": 459,
   "id": "1d878c09-6f8e-453e-926c-704fbb7f5d6c",
   "metadata": {},
   "outputs": [
    {
     "name": "stdin",
     "output_type": "stream",
     "text": [
      "Digite um valor:  0\n"
     ]
    },
    {
     "name": "stdout",
     "output_type": "stream",
     "text": [
      "O número é igual a 0!\n"
     ]
    }
   ],
   "source": [
    "numero = float(input(\"Digite um valor: \"))\n",
    "if numero > 0:\n",
    "    print(\"Esse número é positivo!\")\n",
    "elif numero <0:\n",
    "    print(\"Esse número é negativo!\")\n",
    "# Resolução do professor\n",
    "else:\n",
    "    print(\"O número é igual a 0!\")"
   ]
  },
  {
   "cell_type": "markdown",
   "id": "885d1e5d-29b5-4582-836b-2603b763cbc8",
   "metadata": {},
   "source": [
    "#### Exercício 3\n",
    "\n",
    "Faça um Programa que verifique se uma letra digitada é vogal ou consoante.\n"
   ]
  },
  {
   "cell_type": "code",
   "execution_count": 391,
   "id": "05dfe82a-eddd-48c7-af4b-54b6a611233e",
   "metadata": {},
   "outputs": [
    {
     "name": "stdin",
     "output_type": "stream",
     "text": [
      "Digite uma letra:  A\n"
     ]
    },
    {
     "name": "stdout",
     "output_type": "stream",
     "text": [
      "A letra A é uma vogal!\n"
     ]
    }
   ],
   "source": [
    "letra = input(\"Digite uma letra: \")\n",
    "if (letra == \"a\") or (letra == \"A\"):\n",
    "    print(\"A letra\", letra, \"é uma vogal!\")\n",
    "elif letra == \"e\" or (letra == \"E\"):\n",
    "    print(\"A letra\", letra, \"é uma vogal!\")\n",
    "elif letra == \"i\" or (letra == \"I\"):\n",
    "  print(\"A letra\", letra, \"é uma vogal!\")\n",
    "elif letra == \"o\" or (letra == \"O\"):\n",
    "  print(\"A letra\", letra, \"é uma vogal!\")\n",
    "elif letra == \"u\" or (letra == \"U\"):\n",
    "  print(\"A letra\", letra, \"é uma vogal!\")\n",
    "else:\n",
    "    print(\"A letra\", letra, \"é uma consoante!\")"
   ]
  },
  {
   "cell_type": "code",
   "execution_count": 463,
   "id": "f8ac8a9c-a40f-4454-aa3f-d2c18eb0bc02",
   "metadata": {},
   "outputs": [
    {
     "name": "stdin",
     "output_type": "stream",
     "text": [
      "Informe uma letra:  e\n"
     ]
    },
    {
     "name": "stdout",
     "output_type": "stream",
     "text": [
      "VOGAL\n"
     ]
    }
   ],
   "source": [
    "#Resolução do professor\n",
    "letra = input('Informe uma letra: ')\n",
    "\n",
    "if ('AEIOU'.find(letra.upper()) >= 0):\n",
    "    print('VOGAL')\n",
    "else:\n",
    "    print('CONSOANTE')\n",
    "\n",
    "# PORQUE >= 0 , O QUE SIGNIFICA FIND , NÃO PRECISA SEPARAR AS LETRAS? #"
   ]
  },
  {
   "cell_type": "markdown",
   "id": "802feb0f-64b5-4d5e-a671-2bee2d5f7127",
   "metadata": {},
   "source": [
    "#### Exercício 4 \n",
    "\n",
    "Faça um programa para a leitura de duas notas parciais de um aluno. O programa deve calcular a média alcançada por\n",
    "aluno e apresentar:  \n",
    "a. A mensagem \"Aprovado\", se a média alcançada for maior ou igual a sete;  \n",
    "b. A mensagem \"Reprovado\", se a média for menor do que sete;  \n",
    "c. A mensagem \"Aprovado com Distinção\", se a média for igual a dez."
   ]
  },
  {
   "cell_type": "code",
   "execution_count": 479,
   "id": "e967242c-0960-419d-a6b8-5cda17541185",
   "metadata": {},
   "outputs": [
    {
     "name": "stdin",
     "output_type": "stream",
     "text": [
      "Digite a nota 1:  5\n",
      "Digite a nota 2: 8\n"
     ]
    },
    {
     "name": "stdout",
     "output_type": "stream",
     "text": [
      "Esse aluno está Reprovado!\n"
     ]
    }
   ],
   "source": [
    "nota1 = float(input(\"Digite a nota 1: \"))\n",
    "nota2 = float(input(\"Digite a nota 2:\" ))\n",
    "\n",
    "media = (nota1 + nota2) / 2\n",
    "\n",
    "if (media >= 7) and (media <10):\n",
    "    print(\"Esse aluno está Aprovado!\")\n",
    "elif media < 7:\n",
    "    print(\"Esse aluno está Reprovado!\")\n",
    "elif media == 10:\n",
    "    print(\"Esse aluno está Aprovado com Distinção!\")"
   ]
  },
  {
   "cell_type": "code",
   "execution_count": 483,
   "id": "e2844cb8-26d5-494b-871b-fa0056585fea",
   "metadata": {},
   "outputs": [
    {
     "name": "stdin",
     "output_type": "stream",
     "text": [
      "Informe a primeira nota:  10\n",
      "Informe a segunda nota:  8\n"
     ]
    },
    {
     "name": "stdout",
     "output_type": "stream",
     "text": [
      "A media do aluno eh: 9.0\n",
      "Aprovado\n"
     ]
    }
   ],
   "source": [
    "nota1 = float(input('Informe a primeira nota: '))\n",
    "nota2 = float(input('Informe a segunda nota: '))\n",
    "\n",
    "media = (nota1 + nota2) / 2.0\n",
    "# Resolução do professor\n",
    "print('A media do aluno eh:', media)\n",
    "if (media == 10):\n",
    "    print('Aprovado com Distinção')\n",
    "elif (media >= 7):\n",
    "    print('Aprovado')\n",
    "else:\n",
    "    print('Reprovado')"
   ]
  },
  {
   "cell_type": "markdown",
   "id": "6de01441-4019-4722-9973-f52b028ad21b",
   "metadata": {},
   "source": [
    "#### Exercício 5 \n",
    "\n",
    "Faça um programa que pergunte o preço de três produtos e informe qual produto você deve comprar, sabendo que a\n",
    "decisão é sempre pelo mais barato."
   ]
  },
  {
   "cell_type": "code",
   "execution_count": 507,
   "id": "ee0ca6fd-415d-48ad-873e-198c0675fb30",
   "metadata": {},
   "outputs": [
    {
     "name": "stdin",
     "output_type": "stream",
     "text": [
      "Informe o preço do primeiro produto:  100\n",
      "Informe o preço do segundo produto:  50\n",
      "Informe o preço do terceiro produto:  20\n"
     ]
    },
    {
     "name": "stdout",
     "output_type": "stream",
     "text": [
      "O produto que você deve comprar é o de R$ 20.0 , pois é o mais barato!\n"
     ]
    }
   ],
   "source": [
    "produto1 = float(input(\"Informe o preço do primeiro produto: \"))\n",
    "produto2 = float(input(\"Informe o preço do segundo produto: \"))\n",
    "produto3 = float(input(\"Informe o preço do terceiro produto: \"))\n",
    "\n",
    "if produto1 < produto2 and produto1 < produto3:\n",
    "    barato = produto1\n",
    "elif produto2 < produto1 and produto2 < produto3:\n",
    "    barato = produto2\n",
    "else:\n",
    "    barato = produto3\n",
    "\n",
    "print(\"O produto que você deve comprar é o de R$\" , barato,\", pois é o mais barato!\")"
   ]
  },
  {
   "cell_type": "code",
   "execution_count": 509,
   "id": "f31fbd51-5b8f-4e76-8e6a-ac8abc118a0b",
   "metadata": {},
   "outputs": [
    {
     "name": "stdin",
     "output_type": "stream",
     "text": [
      "Informe o primeiro preço:  80\n",
      "Informe o segundo preço:  20\n",
      "Informe o terceiro preço:  30\n"
     ]
    },
    {
     "name": "stdout",
     "output_type": "stream",
     "text": [
      "Compre pelo segundo preço\n"
     ]
    }
   ],
   "source": [
    "preco1 = int(input('Informe o primeiro preço: '))\n",
    "preco2 = int(input('Informe o segundo preço: '))\n",
    "preco3 = int(input('Informe o terceiro preço: '))\n",
    "\n",
    "# Resolução do professor\n",
    "if (preco1 == preco2) and (preco1 == preco3):\n",
    "    print('Pode comprar qualquer um, ja que os preços são iguais.')\n",
    "elif (preco1 < preco2) and (preco1 < preco3):\n",
    "    print('Compre pelo primeiro preço')\n",
    "elif (preco2 < preco3):\n",
    "    print('Compre pelo segundo preço')\n",
    "else:\n",
    "    print('Compre pelo terceiro preco')\n",
    "\n",
    "# PORQUE NÃO PRECISO COLOCAR AQUI QUE O P REÇO 2 DEVE SER MENOR QUE O 1? SOMENTE O 3?"
   ]
  },
  {
   "cell_type": "markdown",
   "id": "fa1f8797-f171-41b5-8f7d-1b1882aed103",
   "metadata": {},
   "source": [
    "#### Exercício 6  \n",
    "\n",
    "Faça um Programa que leia três números e mostre-os em ordem decrescente."
   ]
  },
  {
   "cell_type": "code",
   "execution_count": null,
   "id": "7c5ff0cb-cb2f-42ff-b286-8a8c898a022f",
   "metadata": {},
   "outputs": [],
   "source": [
    "n1 = int(input(\"Digite um número: \"))\n",
    "n2 = int(input(\"Digite outro número: \"))\n",
    "n3 = int(input(\"Digite mais um número: \"))\n",
    "\n",
    "print(n3, n2, n1)"
   ]
  },
  {
   "cell_type": "code",
   "execution_count": null,
   "id": "c49166e4-5fde-484a-aeb0-16954cfd81dc",
   "metadata": {},
   "outputs": [],
   "source": [
    "num1 = int(input('Informe um numero: '))\n",
    "num2 = int(input('Informe outro numero: '))\n",
    "num3 = int(input('Informe mais um numero: '))\n",
    "\n",
    "#Resolução do professor\n",
    "if (num1 >= num2) and (num1 >= num3):\n",
    "    print(num1)\n",
    "    if (num2 >= num3):\n",
    "        print(num2)\n",
    "        print(num3)\n",
    "    else:\n",
    "        print(num3)\n",
    "        print(num2)\n",
    "elif (num2 >= num3):\n",
    "    print(num2)\n",
    "    if (num1 >= num3):\n",
    "        print(num1)\n",
    "        print(num3)\n",
    "    else:\n",
    "        print(num3)\n",
    "        print(num1)\n",
    "else:\n",
    "    print(num3)\n",
    "    if (num1 >= num2):\n",
    "        print(num1)\n",
    "        print(num2)\n",
    "    else:\n",
    "        print(num2)\n",
    "        print(num1)"
   ]
  },
  {
   "cell_type": "markdown",
   "id": "aa6e09e6-ecdf-4f65-885c-2ae805a763d3",
   "metadata": {},
   "source": [
    "#### Exercício 7 \n",
    "\n",
    "Faça um Programa que pergunte em que turno você estuda. Peça para digitar M-matutino ou V-Vespertino ou N- Noturno.  \n",
    "Imprima a mensagem \"Bom Dia!\", \"Boa Tarde!\" ou \"Boa Noite!\" ou \"Valor Inválido!\", conforme o caso.\n",
    "\n"
   ]
  },
  {
   "cell_type": "code",
   "execution_count": 415,
   "id": "d5131fc9-c814-4059-92a7-9923ca650b42",
   "metadata": {},
   "outputs": [
    {
     "name": "stdin",
     "output_type": "stream",
     "text": [
      "Em que turno você estuda? Digite a letra inicíal do período: \n",
      "M-matutino ou V-vespertino ou N-noturno:  V\n"
     ]
    },
    {
     "name": "stdout",
     "output_type": "stream",
     "text": [
      "\n",
      "Boa Tarde!\n"
     ]
    }
   ],
   "source": [
    "turno = input(\"Em que turno você estuda? Digite a letra inicíal do período: \\nM-matutino ou V-vespertino ou N-noturno: \")\n",
    "if (turno == \"M\") or (turno == \"m\"):\n",
    "    print(\"\\nBom Dia!\")\n",
    "elif (turno == \"V\") or (turno == \"v\"):\n",
    "    print(\"\\nBoa Tarde!\")\n",
    "elif (turno == \"N\") or (turno == \"n\"):\n",
    "    print(\"\\nBoa Noite!\")\n",
    "else:\n",
    "    print(\"\\nValor inválido!\")"
   ]
  },
  {
   "cell_type": "code",
   "execution_count": 513,
   "id": "43487629-bc98-4215-886f-bf97081b25e0",
   "metadata": {},
   "outputs": [
    {
     "name": "stdout",
     "output_type": "stream",
     "text": [
      "Informe o turno em que você estuda\n",
      "[M]atutino\n",
      "[V]espertino\n",
      "[N]oturno\n"
     ]
    },
    {
     "name": "stdin",
     "output_type": "stream",
     "text": [
      "Opção escolhida:  m\n"
     ]
    },
    {
     "name": "stdout",
     "output_type": "stream",
     "text": [
      "Bom dia!\n"
     ]
    }
   ],
   "source": [
    "# Resolução do professor\n",
    "print('Informe o turno em que você estuda')\n",
    "print('[M]atutino')\n",
    "print('[V]espertino')\n",
    "print('[N]oturno')\n",
    "turno = input('Opção escolhida: ').upper()\n",
    "\n",
    "if (turno == 'M'):\n",
    "    print('Bom dia!')\n",
    "elif (turno == 'V'):\n",
    "    print('Boa tarde!')\n",
    "elif (turno == 'N'):\n",
    "    print('Boa noite!')\n",
    "else:\n",
    "    print('Turno inválido')"
   ]
  },
  {
   "cell_type": "markdown",
   "id": "d90331c2-7f9b-40cd-a026-d30cf2b62576",
   "metadata": {},
   "source": [
    "#### Exercício 8  \n",
    "\n",
    "As Organizações Tabajara resolveram dar um aumento de salário aos seus colaboradores e lhe contraram para\n",
    "desenvolver o programa que calculará os reajustes.  \n",
    "a. Faça um programa que recebe o salário de um colaborador e o reajuste segundo o seguinte critério, baseado no\n",
    "salário atual:  \n",
    "b. salários até RS 280,00 (incluindo) : aumento de 20%     \n",
    "c. salários entre RS 280,00 e RS 700,00 : aumento de 15%   \n",
    "d. salários entre RS 700,00 e RS 1500,00 : aumento de 10%   \n",
    "e. salários de R$ 1500,00 em diante : aumento de 5% Após o aumento ser realizado, informe na tela:  \n",
    "\n",
    "f. o salário antes do reajuste;  \n",
    "g. o percentual de aumento aplicado;  \n",
    "h. o valor do aumento;  \n",
    "i. o novo salário, após o aumento."
   ]
  },
  {
   "cell_type": "code",
   "execution_count": null,
   "id": "5a1ee173-b9d2-4986-aa28-c0b6d9c4ee54",
   "metadata": {},
   "outputs": [],
   "source": []
  },
  {
   "attachments": {
    "2e0f63a7-3de9-4794-819d-96270e8ce191.png": {
     "image/png": "[encoded data removed]"
    }
   },
   "cell_type": "markdown",
   "id": "fce82fc6-0f0b-4c01-8be9-06688f0087b6",
   "metadata": {},
   "source": [
    "#### Exercício 9 \n",
    "\n",
    "Faça um programa para o cálculo de uma folha de pagamento, sabendo que os descontos são do Imposto de Renda, que\n",
    "depende do salário bruto (conforme tabela abaixo) e 3% para o Sindicato e que o FGTS corresponde a 11% do Salário\n",
    "Bruto, mas não é descontado (é a empresa que deposita). O Salário Líquido corresponde ao Salário Bruto menos os\n",
    "descontos. O programa deverá pedir ao usuário o valor da sua hora e a quantidade de horas trabalhadas no mês.\n",
    "a. Desconto do IR:  \n",
    "b. Salário Bruto até 900 (inclusive) - isento  \n",
    "c. Salário Bruto até 1500 (inclusive) - desconto de 5%  \n",
    "d. Salário Bruto até 2500 (inclusive) - desconto de 10%  \n",
    "e. Salário Bruto acima de 2500 - desconto de 20% Imprima na tela as informações, dispostas conforme o exemplo\n",
    "abaixo. No exemplo o valor da hora é 5 e a quantidade de hora é 220.  \n",
    "\n",
    "![Captura de tela 2025-05-08 083109.png](attachment:2e0f63a7-3de9-4794-819d-96270e8ce191.png)\n",
    "\n",
    "    "
   ]
  },
  {
   "cell_type": "code",
   "execution_count": null,
   "id": "c6a24e0c-fa5a-42fc-9a6f-1a05d3a7bb06",
   "metadata": {},
   "outputs": [],
   "source": []
  },
  {
   "attachments": {
    "9611bdf5-b3ee-4da3-9bf9-263d1778ba52.png": {
     "image/png": "[encoded data removed]"
    }
   },
   "cell_type": "markdown",
   "id": "a87e3d8f-c771-421b-8a10-be621b55c927",
   "metadata": {},
   "source": [
    "#### Exercício 10\n",
    "\n",
    "Faça um programa que lê as duas notas parciais obtidas por um aluno numa disciplina ao longo de um semestre, e calcule\n",
    "a sua média. A atribuição de conceitos obedece à tabela abaixo:\n",
    "\n",
    "![Captura de tela 2025-05-08 083404.png](attachment:9611bdf5-b3ee-4da3-9bf9-263d1778ba52.png)"
   ]
  },
  {
   "cell_type": "code",
   "execution_count": 13,
   "id": "b01d044a-76c6-4415-808f-2e776609bea8",
   "metadata": {},
   "outputs": [
    {
     "name": "stdin",
     "output_type": "stream",
     "text": [
      "Digite a primeira nota:  8\n",
      "Digite a segunda nota:  6\n"
     ]
    },
    {
     "name": "stdout",
     "output_type": "stream",
     "text": [
      "Conceito C\n"
     ]
    }
   ],
   "source": [
    "nota1 = float(input(\"Digite a primeira nota: \"))\n",
    "nota2 = float(input(\"Digite a segunda nota: \"))\n",
    "\n",
    "media = (nota1 + nota2) / 2\n",
    "\n",
    "if media >= 9.0:\n",
    "    print(\"Conceito A\")\n",
    "elif (media >= 7.5) and (media <= 9.0):\n",
    "    print(\"Conceito B\")\n",
    "elif (media >= 6.0) and (media <= 7.5):\n",
    "    print(\"Conceito C\")\n",
    "elif (media >= 4.0) and (media <= 6.0):\n",
    "    print(\"Conceito D\")\n",
    "else:\n",
    "    print(\"Conceito E\")"
   ]
  },
  {
   "cell_type": "code",
   "execution_count": 15,
   "id": "ee847379-8a60-4e6f-a528-b2b97200fc0b",
   "metadata": {},
   "outputs": [
    {
     "name": "stdin",
     "output_type": "stream",
     "text": [
      "Informe o valor da primeira nota:  5\n",
      "Informe o valor da segunda nota:  5\n"
     ]
    },
    {
     "name": "stdout",
     "output_type": "stream",
     "text": [
      "Conceito: D\n",
      "REPROVADO\n"
     ]
    }
   ],
   "source": [
    "nota1 = float(input('Informe o valor da primeira nota: '))\n",
    "nota2 = float(input('Informe o valor da segunda nota: '))\n",
    "\n",
    "media = (nota1 + nota2) / 2\n",
    "#Resolução do professor\n",
    "if (media < 4):\n",
    "    print('Conceito: E')\n",
    "    aprovado = False\n",
    "elif (media < 6):\n",
    "    print('Conceito: D')\n",
    "    aprovado = False\n",
    "elif (media < 7.5):\n",
    "    print('Conceito: C')\n",
    "    aprovado = True\n",
    "elif (media < 9):\n",
    "    print('Conceito: B')\n",
    "    aprovado = True\n",
    "else:\n",
    "    print('Conceito: A')\n",
    "    aprovado = True\n",
    "\n",
    "if (aprovado):\n",
    "    print('APROVADO')\n",
    "else:\n",
    "    print('REPROVADO')"
   ]
  },
  {
   "cell_type": "markdown",
   "id": "5a065bb6-a1e7-44b6-a40d-ee4b37ea57a2",
   "metadata": {},
   "source": [
    "# PARTE 2: LOOPS DE REPETIÇÃO"
   ]
  },
  {
   "cell_type": "markdown",
   "id": "09f96c9a-b986-47a7-a434-04f6a39e5c27",
   "metadata": {},
   "source": [
    "#### Exercício 1\n",
    "Faça um programa que peça uma nota, entre zero e dez. Mostre uma mensagem caso o valor seja inválido e continue\n",
    "pedindo até que o usuário informe um valor válido."
   ]
  },
  {
   "cell_type": "code",
   "execution_count": null,
   "id": "7e41418f-001b-4f5b-b96c-a5e33aca3846",
   "metadata": {},
   "outputs": [],
   "source": []
  },
  {
   "cell_type": "markdown",
   "id": "8f4900ab-96ba-4799-a1a0-be6c0e1811d4",
   "metadata": {},
   "source": [
    "#### Exercício 2\n",
    "Faça um programa que leia um nome de usuário e a sua senha e não aceite a senha igual ao nome do usuário, mostrando\n",
    "uma mensagem de erro e voltando a pedir as informações."
   ]
  },
  {
   "cell_type": "code",
   "execution_count": null,
   "id": "6390cc94-f0f0-4b4a-b9be-4b2c561ccd6d",
   "metadata": {},
   "outputs": [],
   "source": []
  },
  {
   "cell_type": "markdown",
   "id": "7112f61a-a879-4226-a5c3-c105d5a86446",
   "metadata": {},
   "source": [
    "#### Exercício 3\n",
    "Faça um programa que leia e valide as seguintes informações:  \n",
    "a. Nome: maior que 3 caracteres;  \n",
    "b. Idade: entre 0 e 150;  \n",
    "c. Salário: maior que zero;  \n",
    "d. Sexo: 'f' ou 'm';  \n",
    "e. Estado Civil: 's', 'c', 'v', 'd';"
   ]
  },
  {
   "cell_type": "code",
   "execution_count": null,
   "id": "bb913642-62b2-4143-8c96-a63b63fa4b50",
   "metadata": {},
   "outputs": [],
   "source": []
  },
  {
   "cell_type": "markdown",
   "id": "d2dad4a1-5440-4a79-8117-45c5869f84bc",
   "metadata": {},
   "source": [
    "#### Exercício 4\n",
    "Supondo que a população de um país A seja da ordem de 80000 habitantes com uma taxa anual de crescimento de 3% e\n",
    "que a população de B seja 200000 habitantes com uma taxa de crescimento de 1.5%. Faça um programa que calcule e\n",
    "escreva o número de anos necessários para que a população do país A ultrapasse ou iguale a população do país B,\n",
    "mantidas as taxas de crescimento.  "
   ]
  },
  {
   "cell_type": "code",
   "execution_count": null,
   "id": "7cb2fa99-dacb-472f-aa26-7c82200924ff",
   "metadata": {},
   "outputs": [],
   "source": []
  },
  {
   "cell_type": "markdown",
   "id": "3798669f-5b72-42a1-9d14-d33d0a18eeaf",
   "metadata": {},
   "source": [
    "#### Exercício 5\n",
    "Faça um programa que leia 5 números e informe a soma e a média dos números."
   ]
  },
  {
   "cell_type": "code",
   "execution_count": null,
   "id": "a7165e14-dcc2-49df-a701-77b1edaa9a46",
   "metadata": {},
   "outputs": [],
   "source": []
  },
  {
   "attachments": {
    "794801aa-3c5f-4606-b058-9faff6f6cbda.png": {
     "image/png": "[encoded data removed]"
    }
   },
   "cell_type": "markdown",
   "id": "4bcf0d80-3637-4080-b754-782ea449f3c0",
   "metadata": {},
   "source": [
    "#### Exercício 6\n",
    "Desenvolva um gerador de tabuada, capaz de gerar a tabuada de qualquer número inteiro entre 1 a 10. O usuário deve\n",
    "informar de qual numero ele deseja ver a tabuada. A saída deve ser conforme o exemplo abaixo:  \n",
    "\n",
    "![Captura de tela 2025-05-08 083715.png](attachment:794801aa-3c5f-4606-b058-9faff6f6cbda.png)\n"
   ]
  },
  {
   "cell_type": "code",
   "execution_count": null,
   "id": "d9e67b28-bd94-460b-8a34-4006803d01c1",
   "metadata": {},
   "outputs": [],
   "source": []
  },
  {
   "cell_type": "markdown",
   "id": "b116feef-55a8-4729-830c-b99652526f45",
   "metadata": {},
   "source": [
    "#### Exercício 7\n",
    "A série de Fibonacci é formada pela seqüência 1,1,2,3,5,8,13,21,34,55,... Faça um programa capaz de gerar a série até o\n",
    "n−ésimo termo."
   ]
  },
  {
   "cell_type": "code",
   "execution_count": null,
   "id": "51d41260-1efb-407e-8a65-37e292886633",
   "metadata": {},
   "outputs": [],
   "source": []
  },
  {
   "cell_type": "markdown",
   "id": "5d8c6fe4-2736-49b5-af28-ae8dd6630d5f",
   "metadata": {},
   "source": [
    "#### Exercício 8\n",
    "Faça um programa que calcule o mostre a média aritmética de N notas."
   ]
  },
  {
   "cell_type": "code",
   "execution_count": null,
   "id": "af3150b8-f380-4bc9-9777-e23cccccab7e",
   "metadata": {},
   "outputs": [],
   "source": []
  },
  {
   "attachments": {
    "690da3db-de41-489d-bb91-43cfddfbc4c5.png": {
     "image/png": "[encoded data removed]"
    }
   },
   "cell_type": "markdown",
   "id": "fa5b2397-65fe-4f7e-88c6-e8784f8ed7fc",
   "metadata": {},
   "source": [
    "#### Exercício 9\n",
    "O Sr. Manoel Joaquim possui uma grande loja de artigos de R$ 1,99, com cerca de 10 caixas. Para agilizar o cálculo de\n",
    "quanto cada cliente deve pagar ele desenvolveu um tabela que contém o número de itens que o cliente comprou e ao lado\n",
    "o valor da conta. Desta forma a atendente do caixa precisa apenas contar quantos itens o cliente está levando e olhar na\n",
    "tabela de preços. Você foi contratado para desenvolver o programa que monta esta tabela de preços, que conterá os preços\n",
    "de 1 até 50 produtos, conforme o exemplo abaixo:\n",
    "\n",
    "![Captura de tela 2025-05-08 083900.png](attachment:690da3db-de41-489d-bb91-43cfddfbc4c5.png)\n"
   ]
  },
  {
   "cell_type": "code",
   "execution_count": null,
   "id": "f61b9c2a-64de-4928-aae9-9e2e3f28649c",
   "metadata": {},
   "outputs": [],
   "source": []
  },
  {
   "cell_type": "markdown",
   "id": "009cf284-db76-4b1d-82ad-ce2e43a1f0c2",
   "metadata": {},
   "source": [
    "#### Exercício 10\n",
    "O Departamento Estadual de Meteorologia lhe contratou para desenvolver um programa que leia as um conjunto indeterminado de\n",
    "temperaturas, e informe ao final a menor e a maior temperaturas informadas, bem como a média das temperaturas."
   ]
  },
  {
   "cell_type": "code",
   "execution_count": null,
   "id": "6763ea99-829d-42c8-8814-4fa1a3da6787",
   "metadata": {},
   "outputs": [],
   "source": []
  }
 ],
 "metadata": {
  "kernelspec": {
   "display_name": "Python [conda env:base] *",
   "language": "python",
   "name": "conda-base-py"
  },
  "language_info": {
   "codemirror_mode": {
    "name": "ipython",
    "version": 3
   },
   "file_extension": ".py",
   "mimetype": "text/x-python",
   "name": "python",
   "nbconvert_exporter": "python",
   "pygments_lexer": "ipython3",
   "version": "3.12.7"
  }
 },
 "nbformat": 4,
 "nbformat_minor": 5
}
