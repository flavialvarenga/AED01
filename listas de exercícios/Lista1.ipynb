{
 "cells": [
  {
   "cell_type": "markdown",
   "id": "07c5e759-21e5-4957-9224-91b2df4eb93e",
   "metadata": {},
   "source": [
    "# PARTE 1: CONDICIONAIS"
   ]
  },
  {
   "cell_type": "markdown",
   "id": "ef4c1903-9b33-44df-8980-7ab84a144868",
   "metadata": {},
   "source": [
    "#### Exercício 0\n",
    "Faça um algoritmo para ler um número e mostrar se ele é par ou impar, positivo ou negativo."
   ]
  },
  {
   "cell_type": "code",
   "execution_count": 185,
   "id": "c46f88dc-8155-44c7-9530-7340ab06b520",
   "metadata": {},
   "outputs": [
    {
     "name": "stdin",
     "output_type": "stream",
     "text": [
      "Digite um número:  8\n"
     ]
    },
    {
     "name": "stdout",
     "output_type": "stream",
     "text": [
      "Esse número é positivo!\n",
      "Esse número é par!\n"
     ]
    }
   ],
   "source": [
    "numero = float(input(\"Digite um número: \"))\n",
    "if numero >= 0:\n",
    "    print(\"Esse número é positivo!\")\n",
    "elif numero < 0:\n",
    "    print(\"Esse número é negativo!\")\n",
    "if numero % 2 == 0:\n",
    "    print(\"Esse número é par!\")\n",
    "else:\n",
    "    print(\"Esse número é impar!\")"
   ]
  },
  {
   "cell_type": "markdown",
   "id": "cc42c9c0-e110-4f74-8c9c-786ad66446bb",
   "metadata": {},
   "source": [
    "#### Exercício 1  \n",
    "\n",
    "Faça um Programa que peça dois números e imprima o maior deles.\n"
   ]
  },
  {
   "cell_type": "code",
   "execution_count": 449,
   "id": "d9ae16a1-4c02-4c54-99b1-974bb1967aa0",
   "metadata": {},
   "outputs": [
    {
     "name": "stdin",
     "output_type": "stream",
     "text": [
      "Digite o primeiro número:  5\n",
      "Digite o segundo número:  8\n"
     ]
    },
    {
     "name": "stdout",
     "output_type": "stream",
     "text": [
      "\n",
      "O maior valor é 8 !\n"
     ]
    }
   ],
   "source": [
    "numero1 = int(input(\"Digite o primeiro número: \"))\n",
    "numero2 = int(input(\"Digite o segundo número: \"))\n",
    "\n",
    "if numero1 > numero2:\n",
    "    print(\"\\nO maior valor é\" , numero1 , \"!\")\n",
    "else:\n",
    "    print(\"\\nO maior valor é\" , numero2 ,\"!\")"
   ]
  },
  {
   "cell_type": "code",
   "execution_count": 455,
   "id": "629a8a80-33ac-44e9-8073-2ac53e9ea557",
   "metadata": {},
   "outputs": [
    {
     "name": "stdin",
     "output_type": "stream",
     "text": [
      "Digite o primeiro número:  5\n",
      "Digite o segundo número:  5\n"
     ]
    },
    {
     "name": "stdout",
     "output_type": "stream",
     "text": [
      "\n",
      "Os números são iguais!\n"
     ]
    }
   ],
   "source": [
    "numero1 = int(input(\"Digite o primeiro número: \"))\n",
    "numero2 = int(input(\"Digite o segundo número: \"))\n",
    "\n",
    "if numero1 > numero2:\n",
    "    print(\"\\nO maior valor é\" , numero1 , \"!\")\n",
    "elif numero2 > numero1:\n",
    "    print(\"\\nO maior valor é\" , numero2 , \"!\")\n",
    "#resolução do professor\n",
    "else:\n",
    "    print(\"\\nOs números são iguais!\")"
   ]
  },
  {
   "cell_type": "markdown",
   "id": "ee15bcb6-f2ab-4087-baab-f7d8f30b39e4",
   "metadata": {},
   "source": [
    "#### Exercício 2 \n",
    "\n",
    "Faça um Programa que peça um valor e mostre na tela se o valor é positivo ou negativo.\n"
   ]
  },
  {
   "cell_type": "code",
   "execution_count": 181,
   "id": "1d24ef1c-1a79-44e9-8e88-b4e6a9bf483c",
   "metadata": {},
   "outputs": [
    {
     "name": "stdin",
     "output_type": "stream",
     "text": [
      "Digite um valor:  -3.2\n"
     ]
    },
    {
     "name": "stdout",
     "output_type": "stream",
     "text": [
      "Esse número é negativo!\n"
     ]
    }
   ],
   "source": [
    "numero = float(input(\"Digite um valor: \"))\n",
    "if numero >= 0:\n",
    "    print(\"Esse número é positivo!\")\n",
    "else:\n",
    "    print(\"Esse número é negativo!\")"
   ]
  },
  {
   "cell_type": "code",
   "execution_count": 459,
   "id": "1d878c09-6f8e-453e-926c-704fbb7f5d6c",
   "metadata": {},
   "outputs": [
    {
     "name": "stdin",
     "output_type": "stream",
     "text": [
      "Digite um valor:  0\n"
     ]
    },
    {
     "name": "stdout",
     "output_type": "stream",
     "text": [
      "O número é igual a 0!\n"
     ]
    }
   ],
   "source": [
    "numero = float(input(\"Digite um valor: \"))\n",
    "if numero > 0:\n",
    "    print(\"Esse número é positivo!\")\n",
    "elif numero <0:\n",
    "    print(\"Esse número é negativo!\")\n",
    "# Resolução do professor\n",
    "else:\n",
    "    print(\"O número é igual a 0!\")"
   ]
  },
  {
   "cell_type": "markdown",
   "id": "885d1e5d-29b5-4582-836b-2603b763cbc8",
   "metadata": {},
   "source": [
    "#### Exercício 3\n",
    "\n",
    "Faça um Programa que verifique se uma letra digitada é vogal ou consoante.\n"
   ]
  },
  {
   "cell_type": "code",
   "execution_count": 391,
   "id": "05dfe82a-eddd-48c7-af4b-54b6a611233e",
   "metadata": {},
   "outputs": [
    {
     "name": "stdin",
     "output_type": "stream",
     "text": [
      "Digite uma letra:  A\n"
     ]
    },
    {
     "name": "stdout",
     "output_type": "stream",
     "text": [
      "A letra A é uma vogal!\n"
     ]
    }
   ],
   "source": [
    "letra = input(\"Digite uma letra: \")\n",
    "if (letra == \"a\") or (letra == \"A\"):\n",
    "    print(\"A letra\", letra, \"é uma vogal!\")\n",
    "elif letra == \"e\" or (letra == \"E\"):\n",
    "    print(\"A letra\", letra, \"é uma vogal!\")\n",
    "elif letra == \"i\" or (letra == \"I\"):\n",
    "  print(\"A letra\", letra, \"é uma vogal!\")\n",
    "elif letra == \"o\" or (letra == \"O\"):\n",
    "  print(\"A letra\", letra, \"é uma vogal!\")\n",
    "elif letra == \"u\" or (letra == \"U\"):\n",
    "  print(\"A letra\", letra, \"é uma vogal!\")\n",
    "else:\n",
    "    print(\"A letra\", letra, \"é uma consoante!\")"
   ]
  },
  {
   "cell_type": "code",
   "execution_count": 34,
   "id": "f8ac8a9c-a40f-4454-aa3f-d2c18eb0bc02",
   "metadata": {},
   "outputs": [
    {
     "name": "stdin",
     "output_type": "stream",
     "text": [
      "Informe uma letra:  e\n"
     ]
    },
    {
     "name": "stdout",
     "output_type": "stream",
     "text": [
      "VOGAL\n"
     ]
    }
   ],
   "source": [
    "#Resolução do professor\n",
    "letra = input('Informe uma letra: ')\n",
    "\n",
    "if ('AEIOU'.find(letra.upper()) >= 0):\n",
    "    print('VOGAL')\n",
    "else:\n",
    "    print('CONSOANTE')\n",
    "\n",
    "#find é para procurar"
   ]
  },
  {
   "cell_type": "markdown",
   "id": "802feb0f-64b5-4d5e-a671-2bee2d5f7127",
   "metadata": {},
   "source": [
    "#### Exercício 4 \n",
    "\n",
    "Faça um programa para a leitura de duas notas parciais de um aluno. O programa deve calcular a média alcançada por\n",
    "aluno e apresentar:  \n",
    "a. A mensagem \"Aprovado\", se a média alcançada for maior ou igual a sete;  \n",
    "b. A mensagem \"Reprovado\", se a média for menor do que sete;  \n",
    "c. A mensagem \"Aprovado com Distinção\", se a média for igual a dez."
   ]
  },
  {
   "cell_type": "code",
   "execution_count": 479,
   "id": "e967242c-0960-419d-a6b8-5cda17541185",
   "metadata": {},
   "outputs": [
    {
     "name": "stdin",
     "output_type": "stream",
     "text": [
      "Digite a nota 1:  5\n",
      "Digite a nota 2: 8\n"
     ]
    },
    {
     "name": "stdout",
     "output_type": "stream",
     "text": [
      "Esse aluno está Reprovado!\n"
     ]
    }
   ],
   "source": [
    "nota1 = float(input(\"Digite a nota 1: \"))\n",
    "nota2 = float(input(\"Digite a nota 2:\" ))\n",
    "\n",
    "media = (nota1 + nota2) / 2\n",
    "\n",
    "if (media >= 7) and (media <10):\n",
    "    print(\"Esse aluno está Aprovado!\")\n",
    "elif media < 7:\n",
    "    print(\"Esse aluno está Reprovado!\")\n",
    "elif media == 10:\n",
    "    print(\"Esse aluno está Aprovado com Distinção!\")"
   ]
  },
  {
   "cell_type": "code",
   "execution_count": 483,
   "id": "e2844cb8-26d5-494b-871b-fa0056585fea",
   "metadata": {},
   "outputs": [
    {
     "name": "stdin",
     "output_type": "stream",
     "text": [
      "Informe a primeira nota:  10\n",
      "Informe a segunda nota:  8\n"
     ]
    },
    {
     "name": "stdout",
     "output_type": "stream",
     "text": [
      "A media do aluno eh: 9.0\n",
      "Aprovado\n"
     ]
    }
   ],
   "source": [
    "nota1 = float(input('Informe a primeira nota: '))\n",
    "nota2 = float(input('Informe a segunda nota: '))\n",
    "\n",
    "media = (nota1 + nota2) / 2.0\n",
    "# Resolução do professor\n",
    "print('A media do aluno eh:', media)\n",
    "if (media == 10):\n",
    "    print('Aprovado com Distinção')\n",
    "elif (media >= 7):\n",
    "    print('Aprovado')\n",
    "else:\n",
    "    print('Reprovado')"
   ]
  },
  {
   "cell_type": "markdown",
   "id": "6de01441-4019-4722-9973-f52b028ad21b",
   "metadata": {},
   "source": [
    "#### Exercício 5 \n",
    "\n",
    "Faça um programa que pergunte o preço de três produtos e informe qual produto você deve comprar, sabendo que a\n",
    "decisão é sempre pelo mais barato."
   ]
  },
  {
   "cell_type": "code",
   "execution_count": 507,
   "id": "ee0ca6fd-415d-48ad-873e-198c0675fb30",
   "metadata": {},
   "outputs": [
    {
     "name": "stdin",
     "output_type": "stream",
     "text": [
      "Informe o preço do primeiro produto:  100\n",
      "Informe o preço do segundo produto:  50\n",
      "Informe o preço do terceiro produto:  20\n"
     ]
    },
    {
     "name": "stdout",
     "output_type": "stream",
     "text": [
      "O produto que você deve comprar é o de R$ 20.0 , pois é o mais barato!\n"
     ]
    }
   ],
   "source": [
    "produto1 = float(input(\"Informe o preço do primeiro produto: \"))\n",
    "produto2 = float(input(\"Informe o preço do segundo produto: \"))\n",
    "produto3 = float(input(\"Informe o preço do terceiro produto: \"))\n",
    "\n",
    "if produto1 < produto2 and produto1 < produto3:\n",
    "    barato = produto1\n",
    "elif produto2 < produto1 and produto2 < produto3:\n",
    "    barato = produto2\n",
    "else:\n",
    "    barato = produto3\n",
    "\n",
    "print(\"O produto que você deve comprar é o de R$\" , barato,\", pois é o mais barato!\")"
   ]
  },
  {
   "cell_type": "code",
   "execution_count": 33,
   "id": "f31fbd51-5b8f-4e76-8e6a-ac8abc118a0b",
   "metadata": {},
   "outputs": [
    {
     "name": "stdin",
     "output_type": "stream",
     "text": [
      "Informe o primeiro preço:  20\n",
      "Informe o segundo preço:  45\n",
      "Informe o terceiro preço:  80\n"
     ]
    },
    {
     "name": "stdout",
     "output_type": "stream",
     "text": [
      "Compre pelo primeiro preço\n"
     ]
    }
   ],
   "source": [
    "preco1 = int(input('Informe o primeiro preço: '))\n",
    "preco2 = int(input('Informe o segundo preço: '))\n",
    "preco3 = int(input('Informe o terceiro preço: '))\n",
    "\n",
    "# Resolução do professor\n",
    "if (preco1 == preco2) and (preco1 == preco3):\n",
    "    print('Pode comprar qualquer um, ja que os preços são iguais.')\n",
    "elif (preco1 < preco2) and (preco1 < preco3):\n",
    "    print('Compre pelo primeiro preço')\n",
    "elif (preco2 < preco3):\n",
    "    print('Compre pelo segundo preço')\n",
    "else:\n",
    "    print('Compre pelo terceiro preco')"
   ]
  },
  {
   "cell_type": "markdown",
   "id": "fa1f8797-f171-41b5-8f7d-1b1882aed103",
   "metadata": {},
   "source": [
    "#### Exercício 6  \n",
    "\n",
    "Faça um Programa que leia três números e mostre-os em ordem decrescente."
   ]
  },
  {
   "cell_type": "code",
   "execution_count": 96,
   "id": "7c5ff0cb-cb2f-42ff-b286-8a8c898a022f",
   "metadata": {},
   "outputs": [
    {
     "name": "stdin",
     "output_type": "stream",
     "text": [
      "Digite um número:  5\n",
      "Digite outro número:  7\n",
      "Digite mais um número:  22\n"
     ]
    },
    {
     "name": "stdout",
     "output_type": "stream",
     "text": [
      "[22, 7, 5]\n"
     ]
    }
   ],
   "source": [
    "n1 = int(input(\"Digite um número: \"))\n",
    "n2 = int(input(\"Digite outro número: \"))\n",
    "n3 = int(input(\"Digite mais um número: \"))\n",
    "\n",
    "numeros = [n1, n2, n3]\n",
    "numeros.sort(reverse=True)\n",
    "print(numeros)"
   ]
  },
  {
   "cell_type": "code",
   "execution_count": null,
   "id": "c49166e4-5fde-484a-aeb0-16954cfd81dc",
   "metadata": {},
   "outputs": [],
   "source": [
    "num1 = int(input('Informe um numero: '))\n",
    "num2 = int(input('Informe outro numero: '))\n",
    "num3 = int(input('Informe mais um numero: '))\n",
    "\n",
    "#Resolução do professor\n",
    "if (num1 >= num2) and (num1 >= num3):\n",
    "    print(num1)\n",
    "    if (num2 >= num3):\n",
    "        print(num2)\n",
    "        print(num3)\n",
    "    else:\n",
    "        print(num3)\n",
    "        print(num2)\n",
    "elif (num2 >= num3):\n",
    "    print(num2)\n",
    "    if (num1 >= num3):\n",
    "        print(num1)\n",
    "        print(num3)\n",
    "    else:\n",
    "        print(num3)\n",
    "        print(num1)\n",
    "else:\n",
    "    print(num3)\n",
    "    if (num1 >= num2):\n",
    "        print(num1)\n",
    "        print(num2)\n",
    "    else:\n",
    "        print(num2)\n",
    "        print(num1)"
   ]
  },
  {
   "cell_type": "markdown",
   "id": "aa6e09e6-ecdf-4f65-885c-2ae805a763d3",
   "metadata": {},
   "source": [
    "#### Exercício 7 \n",
    "\n",
    "Faça um Programa que pergunte em que turno você estuda. Peça para digitar M-matutino ou V-Vespertino ou N- Noturno.  \n",
    "Imprima a mensagem \"Bom Dia!\", \"Boa Tarde!\" ou \"Boa Noite!\" ou \"Valor Inválido!\", conforme o caso.\n",
    "\n"
   ]
  },
  {
   "cell_type": "code",
   "execution_count": 415,
   "id": "d5131fc9-c814-4059-92a7-9923ca650b42",
   "metadata": {},
   "outputs": [
    {
     "name": "stdin",
     "output_type": "stream",
     "text": [
      "Em que turno você estuda? Digite a letra inicíal do período: \n",
      "M-matutino ou V-vespertino ou N-noturno:  V\n"
     ]
    },
    {
     "name": "stdout",
     "output_type": "stream",
     "text": [
      "\n",
      "Boa Tarde!\n"
     ]
    }
   ],
   "source": [
    "turno = input(\"Em que turno você estuda? Digite a letra inicíal do período: \\nM-matutino ou V-vespertino ou N-noturno: \")\n",
    "if (turno == \"M\") or (turno == \"m\"):\n",
    "    print(\"\\nBom Dia!\")\n",
    "elif (turno == \"V\") or (turno == \"v\"):\n",
    "    print(\"\\nBoa Tarde!\")\n",
    "elif (turno == \"N\") or (turno == \"n\"):\n",
    "    print(\"\\nBoa Noite!\")\n",
    "else:\n",
    "    print(\"\\nValor inválido!\")"
   ]
  },
  {
   "cell_type": "code",
   "execution_count": 513,
   "id": "43487629-bc98-4215-886f-bf97081b25e0",
   "metadata": {},
   "outputs": [
    {
     "name": "stdout",
     "output_type": "stream",
     "text": [
      "Informe o turno em que você estuda\n",
      "[M]atutino\n",
      "[V]espertino\n",
      "[N]oturno\n"
     ]
    },
    {
     "name": "stdin",
     "output_type": "stream",
     "text": [
      "Opção escolhida:  m\n"
     ]
    },
    {
     "name": "stdout",
     "output_type": "stream",
     "text": [
      "Bom dia!\n"
     ]
    }
   ],
   "source": [
    "# Resolução do professor\n",
    "print('Informe o turno em que você estuda')\n",
    "print('[M]atutino')\n",
    "print('[V]espertino')\n",
    "print('[N]oturno')\n",
    "turno = input('Opção escolhida: ').upper()\n",
    "\n",
    "if (turno == 'M'):\n",
    "    print('Bom dia!')\n",
    "elif (turno == 'V'):\n",
    "    print('Boa tarde!')\n",
    "elif (turno == 'N'):\n",
    "    print('Boa noite!')\n",
    "else:\n",
    "    print('Turno inválido')"
   ]
  },
  {
   "cell_type": "markdown",
   "id": "d90331c2-7f9b-40cd-a026-d30cf2b62576",
   "metadata": {},
   "source": [
    "#### Exercício 8  \n",
    "\n",
    "As Organizações Tabajara resolveram dar um aumento de salário aos seus colaboradores e lhe contraram para\n",
    "desenvolver o programa que calculará os reajustes.  \n",
    "a. Faça um programa que recebe o salário de um colaborador e o reajuste segundo o seguinte critério, baseado no\n",
    "salário atual:  \n",
    "b. salários até RS 280,00 (incluindo) : aumento de 20%     \n",
    "c. salários entre RS 280,00 e RS 700,00 : aumento de 15%   \n",
    "d. salários entre RS 700,00 e RS 1500,00 : aumento de 10%   \n",
    "e. salários de R$ 1500,00 em diante : aumento de 5% Após o aumento ser realizado, informe na tela:  \n",
    "\n",
    "f. o salário antes do reajuste;  \n",
    "g. o percentual de aumento aplicado;  \n",
    "h. o valor do aumento;  \n",
    "i. o novo salário, após o aumento."
   ]
  },
  {
   "cell_type": "code",
   "execution_count": 32,
   "id": "5a1ee173-b9d2-4986-aa28-c0b6d9c4ee54",
   "metadata": {},
   "outputs": [
    {
     "name": "stdin",
     "output_type": "stream",
     "text": [
      "Informe o salário atual do funcionário: R$ 2000\n"
     ]
    },
    {
     "name": "stdout",
     "output_type": "stream",
     "text": [
      "O salário antes era de R$2000.00. \n",
      "O percentual aplicado foi de 5%. \n",
      "O valor do aumento foi de R$100.00. \n",
      "O novo salário do funcionário é de R$2100.00!.\n"
     ]
    }
   ],
   "source": [
    "salario_atual = float(input(\"Informe o salário atual do funcionário: R$\"))\n",
    "\n",
    "if salario_atual <= 280:\n",
    "    porcentagem = 0.20\n",
    "elif salario_atual <= 700:\n",
    "    porcentagem = 0.15\n",
    "elif salario_atual <= 1500:\n",
    "    porcentagem = 0.10\n",
    "elif salario_atual >= 1500:\n",
    "    porcentagem = 0.05\n",
    "\n",
    "valor_aumento = salario_atual * porcentagem\n",
    "novo_salario = salario_atual + valor_aumento\n",
    "\n",
    "print(f\"O salário antes era de R${salario_atual:.2f}. \\nO percentual aplicado foi de {porcentagem*100:.0f}%. \\nO valor do aumento foi de R${valor_aumento:.2f}. \\nO novo salário do funcionário é de R${novo_salario:.2f}!.\")"
   ]
  },
  {
   "cell_type": "code",
   "execution_count": 38,
   "id": "5f3c98e1-a0ba-4ae4-8b97-0ba6d3a395ec",
   "metadata": {},
   "outputs": [
    {
     "name": "stdin",
     "output_type": "stream",
     "text": [
      "Informe o valor do salário do colaborador:  5000\n"
     ]
    },
    {
     "name": "stdout",
     "output_type": "stream",
     "text": [
      "Salario antes do reajuste: 5000.0\n",
      "Percentual de aumento: 5 %\n",
      "Valor do aumento: 250.00\n",
      "Novo Salario: 5250.0\n"
     ]
    }
   ],
   "source": [
    "# resolução do professor\n",
    "\n",
    "salario = float(input('Informe o valor do salário do colaborador: '))\n",
    "\n",
    "if (salario <= 280):\n",
    "    percentual = 20\n",
    "elif (salario <= 700):\n",
    "    percentual = 15\n",
    "elif (salario <= 1500):\n",
    "    percentual = 10\n",
    "else:\n",
    "    percentual = 5\n",
    "\n",
    "aumento = salario * (percentual / 100.0)\n",
    "novo_salario = salario + aumento\n",
    "\n",
    "print('Salario antes do reajuste:', salario)\n",
    "print('Percentual de aumento:', percentual, '%')\n",
    "print(f'Valor do aumento: {aumento:.2f}')  #formata com apenas 2 casas decimais\n",
    "print('Novo Salario:', novo_salario)"
   ]
  },
  {
   "attachments": {
    "2e0f63a7-3de9-4794-819d-96270e8ce191.png": {
     "image/png": "[encoded data removed]"
    }
   },
   "cell_type": "markdown",
   "id": "fce82fc6-0f0b-4c01-8be9-06688f0087b6",
   "metadata": {},
   "source": [
    "#### Exercício 9 \n",
    "\n",
    "Faça um programa para o cálculo de uma folha de pagamento, sabendo que os descontos são do Imposto de Renda, que\n",
    "depende do salário bruto (conforme tabela abaixo) e 3% para o Sindicato e que o FGTS corresponde a 11% do Salário\n",
    "Bruto, mas não é descontado (é a empresa que deposita). O Salário Líquido corresponde ao Salário Bruto menos os\n",
    "descontos. O programa deverá pedir ao usuário o valor da sua hora e a quantidade de horas trabalhadas no mês.  \n",
    "a. Desconto do IR:  \n",
    "b. Salário Bruto até 900 (inclusive) - isento  \n",
    "c. Salário Bruto até 1500 (inclusive) - desconto de 5%  \n",
    "d. Salário Bruto até 2500 (inclusive) - desconto de 10%  \n",
    "e. Salário Bruto acima de 2500 - desconto de 20%  \n",
    "Imprima na tela as informações, dispostas conforme o exemplo\n",
    "abaixo. No exemplo o valor da hora é 5 e a quantidade de hora é 220.  \n",
    "\n",
    "![Captura de tela 2025-05-08 083109.png](attachment:2e0f63a7-3de9-4794-819d-96270e8ce191.png)\n",
    "\n",
    "    "
   ]
  },
  {
   "cell_type": "code",
   "execution_count": 89,
   "id": "c6a24e0c-fa5a-42fc-9a6f-1a05d3a7bb06",
   "metadata": {},
   "outputs": [
    {
     "name": "stdin",
     "output_type": "stream",
     "text": [
      "Informe o valor da sua hora:  5\n",
      "Informe a quantidade de horas trabalhadas no mês:  220\n"
     ]
    },
    {
     "name": "stdout",
     "output_type": "stream",
     "text": [
      "\n",
      "Salário Bruto (5.0 * 220.0)    R$   1100.00\n",
      "(-) IR (5%):                   R$     55.00\n",
      "(-) INSS (10%):                R$    110.00\n",
      "(-) Sindicato (3%):            R$     33.00\n",
      "FGTS (11%):                    R$    121.00\n",
      "Total de Descontos:            R$    198.00\n",
      "Salário Líquido:               R$    902.00\n"
     ]
    }
   ],
   "source": [
    "valor_hora = float(input(\"Informe o valor da sua hora: \"))\n",
    "qtd_trabalhada = float(input(\"Informe a quantidade de horas trabalhadas no mês: \"))\n",
    "salario_bruto = valor_hora * qtd_trabalhada\n",
    "\n",
    "if salario_bruto <= 900:\n",
    "    desconto = 0\n",
    "elif salario_bruto <= 1500:\n",
    "    desconto = 0.05\n",
    "elif salario_bruto <= 2500:\n",
    "    desconto = 0.10\n",
    "else:\n",
    "    desconto = 0.20\n",
    "\n",
    "desconto_ir = salario_bruto * desconto\n",
    "desconto_inss = salario_bruto * 0.10\n",
    "desconto_sindicato = salario_bruto * 0.03\n",
    "total_descontos = desconto_inss + desconto_ir + desconto_sindicato\n",
    "\n",
    "fgts = salario_bruto * 0.11\n",
    "salario_liq = salario_bruto - total_descontos\n",
    "\n",
    "print(f\"\\n{'Salário Bruto (' + str(valor_hora) + ' * ' + str(qtd_trabalhada) + ')':<30} R${salario_bruto:>10.2f}\")\n",
    "print(f\"{'(-) IR (5%):':<30} R${desconto_ir:>10.2f}\")\n",
    "print(f\"{'(-) INSS (10%):':<30} R${desconto_inss:>10.2f}\")\n",
    "print(f\"{'(-) Sindicato (3%):':<30} R${desconto_sindicato:>10.2f}\")\n",
    "print(f\"{'FGTS (11%):':<30} R${fgts:>10.2f}\")\n",
    "print(f\"{'Total de Descontos:':<30} R${total_descontos:>10.2f}\")\n",
    "print(f\"{'Salário Líquido:':<30} R${salario_liq:>10.2f}\")"
   ]
  },
  {
   "attachments": {
    "9611bdf5-b3ee-4da3-9bf9-263d1778ba52.png": {
     "image/png": "[encoded data removed]"
    }
   },
   "cell_type": "markdown",
   "id": "a87e3d8f-c771-421b-8a10-be621b55c927",
   "metadata": {},
   "source": [
    "#### Exercício 10\n",
    "\n",
    "Faça um programa que lê as duas notas parciais obtidas por um aluno numa disciplina ao longo de um semestre, e calcule\n",
    "a sua média. A atribuição de conceitos obedece à tabela abaixo:\n",
    "\n",
    "![Captura de tela 2025-05-08 083404.png](attachment:9611bdf5-b3ee-4da3-9bf9-263d1778ba52.png)"
   ]
  },
  {
   "cell_type": "code",
   "execution_count": 13,
   "id": "b01d044a-76c6-4415-808f-2e776609bea8",
   "metadata": {},
   "outputs": [
    {
     "name": "stdin",
     "output_type": "stream",
     "text": [
      "Digite a primeira nota:  8\n",
      "Digite a segunda nota:  6\n"
     ]
    },
    {
     "name": "stdout",
     "output_type": "stream",
     "text": [
      "Conceito C\n"
     ]
    }
   ],
   "source": [
    "nota1 = float(input(\"Digite a primeira nota: \"))\n",
    "nota2 = float(input(\"Digite a segunda nota: \"))\n",
    "\n",
    "media = (nota1 + nota2) / 2\n",
    "\n",
    "if media >= 9.0:\n",
    "    print(\"Conceito A\")\n",
    "elif (media >= 7.5) and (media <= 9.0):\n",
    "    print(\"Conceito B\")\n",
    "elif (media >= 6.0) and (media <= 7.5):\n",
    "    print(\"Conceito C\")\n",
    "elif (media >= 4.0) and (media <= 6.0):\n",
    "    print(\"Conceito D\")\n",
    "else:\n",
    "    print(\"Conceito E\")"
   ]
  },
  {
   "cell_type": "code",
   "execution_count": 15,
   "id": "ee847379-8a60-4e6f-a528-b2b97200fc0b",
   "metadata": {},
   "outputs": [
    {
     "name": "stdin",
     "output_type": "stream",
     "text": [
      "Informe o valor da primeira nota:  5\n",
      "Informe o valor da segunda nota:  5\n"
     ]
    },
    {
     "name": "stdout",
     "output_type": "stream",
     "text": [
      "Conceito: D\n",
      "REPROVADO\n"
     ]
    }
   ],
   "source": [
    "nota1 = float(input('Informe o valor da primeira nota: '))\n",
    "nota2 = float(input('Informe o valor da segunda nota: '))\n",
    "\n",
    "media = (nota1 + nota2) / 2\n",
    "#Resolução do professor\n",
    "if (media < 4):\n",
    "    print('Conceito: E')\n",
    "    aprovado = False\n",
    "elif (media < 6):\n",
    "    print('Conceito: D')\n",
    "    aprovado = False\n",
    "elif (media < 7.5):\n",
    "    print('Conceito: C')\n",
    "    aprovado = True\n",
    "elif (media < 9):\n",
    "    print('Conceito: B')\n",
    "    aprovado = True\n",
    "else:\n",
    "    print('Conceito: A')\n",
    "    aprovado = True\n",
    "\n",
    "if (aprovado):\n",
    "    print('APROVADO')\n",
    "else:\n",
    "    print('REPROVADO')"
   ]
  }
 ],
 "metadata": {
  "kernelspec": {
   "display_name": "Python 3 (ipykernel)",
   "language": "python",
   "name": "python3"
  },
  "language_info": {
   "codemirror_mode": {
    "name": "ipython",
    "version": 3
   },
   "file_extension": ".py",
   "mimetype": "text/x-python",
   "name": "python",
   "nbconvert_exporter": "python",
   "pygments_lexer": "ipython3",
   "version": "3.12.7"
  }
 },
 "nbformat": 4,
 "nbformat_minor": 5
}
