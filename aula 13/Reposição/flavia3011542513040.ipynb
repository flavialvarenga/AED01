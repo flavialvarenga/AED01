{
 "cells": [
  {
   "cell_type": "markdown",
   "id": "5a065bb6-a1e7-44b6-a40d-ee4b37ea57a2",
   "metadata": {},
   "source": [
    "# PARTE 2: LOOPS DE REPETIÇÃO"
   ]
  },
  {
   "cell_type": "markdown",
   "id": "09f96c9a-b986-47a7-a434-04f6a39e5c27",
   "metadata": {},
   "source": [
    "#### Exercício 1\n",
    "Faça um programa que peça uma nota, entre zero e dez. Mostre uma mensagem caso o valor seja inválido e continue\n",
    "pedindo até que o usuário informe um valor válido."
   ]
  },
  {
   "cell_type": "code",
   "execution_count": 27,
   "id": "795ce84f-e692-4d7e-87bd-cdec19e6fa4a",
   "metadata": {},
   "outputs": [
    {
     "name": "stdin",
     "output_type": "stream",
     "text": [
      "\n",
      "Informe a nota:  25\n"
     ]
    },
    {
     "name": "stdout",
     "output_type": "stream",
     "text": [
      "Nota informada é inválida! Por favor, digite novamente!\n"
     ]
    },
    {
     "name": "stdin",
     "output_type": "stream",
     "text": [
      "\n",
      "Informe a nota:  10\n"
     ]
    }
   ],
   "source": [
    "while True:\n",
    "    nota = float(input(\"\\nInforme a nota: \"))\n",
    "\n",
    "    if (nota < 0) or (nota > 10):\n",
    "        print(\"Nota informada é inválida! Por favor, digite novamente!\")\n",
    "        continue \n",
    "    break \n"
   ]
  },
  {
   "cell_type": "markdown",
   "id": "8f4900ab-96ba-4799-a1a0-be6c0e1811d4",
   "metadata": {},
   "source": [
    "#### Exercício 2\n",
    "Faça um programa que leia um nome de usuário e a sua senha e não aceite a senha igual ao nome do usuário, mostrando\n",
    "uma mensagem de erro e voltando a pedir as informações."
   ]
  },
  {
   "cell_type": "code",
   "execution_count": 2,
   "id": "6390cc94-f0f0-4b4a-b9be-4b2c561ccd6d",
   "metadata": {},
   "outputs": [
    {
     "name": "stdin",
     "output_type": "stream",
     "text": [
      "Informe o nome de usuário:  Flávia\n",
      "Informe a senha:  12345\n"
     ]
    }
   ],
   "source": [
    "while True:\n",
    "    nome = input(\"Informe o nome de usuário: \")\n",
    "    senha = input(\"Informe a senha: \")\n",
    "\n",
    "    if nome == senha:\n",
    "        print(\"\\nSenha inválida. Não deve ser igual ao nome do usuário!\\n\")\n",
    "        continue \n",
    "    break "
   ]
  },
  {
   "cell_type": "code",
   "execution_count": 3,
   "id": "384cd75d-6201-4993-9d59-fc2ff6dad75e",
   "metadata": {},
   "outputs": [
    {
     "name": "stdin",
     "output_type": "stream",
     "text": [
      "Informe um nome de usuario:  Rafael\n",
      "Informe a senha:  12345\n"
     ]
    }
   ],
   "source": [
    "#Resolução do professor\n",
    "usuario = senha = ''\n",
    "while (usuario == senha):\n",
    "    usuario = input('Informe um nome de usuario: ')\n",
    "    senha = input('Informe a senha: ')\n",
    "    if (usuario == senha):\n",
    "        print('A senha nao pode ser igual ao nome do usuario')"
   ]
  },
  {
   "cell_type": "markdown",
   "id": "7112f61a-a879-4226-a5c3-c105d5a86446",
   "metadata": {},
   "source": [
    "#### Exercício 3\n",
    "Faça um programa que leia e valide as seguintes informações:  \n",
    "a. Nome: maior que 3 caracteres;  \n",
    "b. Idade: entre 0 e 150;  \n",
    "c. Salário: maior que zero;  \n",
    "d. Sexo: 'f' ou 'm';  \n",
    "e. Estado Civil: 's', 'c', 'v', 'd';"
   ]
  },
  {
   "cell_type": "code",
   "execution_count": 122,
   "id": "e1d0660f-c972-4cf8-bd06-f46a2aef6ff3",
   "metadata": {},
   "outputs": [
    {
     "name": "stdin",
     "output_type": "stream",
     "text": [
      "\n",
      "Informe o seu nome:  JU\n"
     ]
    },
    {
     "name": "stdout",
     "output_type": "stream",
     "text": [
      "Nome informado inválido! Deve conter ao menos 3 caracteres.\n"
     ]
    },
    {
     "name": "stdin",
     "output_type": "stream",
     "text": [
      "\n",
      "Informe o seu nome:  BIA\n"
     ]
    },
    {
     "name": "stdout",
     "output_type": "stream",
     "text": [
      "Olá, BIA!\n"
     ]
    },
    {
     "name": "stdin",
     "output_type": "stream",
     "text": [
      "\n",
      "Informe a sua idade:  155\n"
     ]
    },
    {
     "name": "stdout",
     "output_type": "stream",
     "text": [
      "Idade informada inválida!\n"
     ]
    },
    {
     "name": "stdin",
     "output_type": "stream",
     "text": [
      "\n",
      "Informe a sua idade:  -20\n"
     ]
    },
    {
     "name": "stdout",
     "output_type": "stream",
     "text": [
      "Idade informada inválida!\n"
     ]
    },
    {
     "name": "stdin",
     "output_type": "stream",
     "text": [
      "\n",
      "Informe a sua idade:  25\n"
     ]
    },
    {
     "name": "stdout",
     "output_type": "stream",
     "text": [
      "Você possui 25 anos.\n"
     ]
    },
    {
     "name": "stdin",
     "output_type": "stream",
     "text": [
      "\n",
      "Informe o seu salário:  -20\n"
     ]
    },
    {
     "name": "stdout",
     "output_type": "stream",
     "text": [
      "Salário informado inválido!\n"
     ]
    },
    {
     "name": "stdin",
     "output_type": "stream",
     "text": [
      "\n",
      "Informe o seu salário:  2000\n"
     ]
    },
    {
     "name": "stdout",
     "output_type": "stream",
     "text": [
      "O seu salário é de R$2000.00\n"
     ]
    },
    {
     "name": "stdin",
     "output_type": "stream",
     "text": [
      "\n",
      "Informe o seu sexo (F) ou (M):  J\n"
     ]
    },
    {
     "name": "stdout",
     "output_type": "stream",
     "text": [
      "Sexo informado inválido! Digite 'F' para feminino ou 'M' para masculino.\n"
     ]
    },
    {
     "name": "stdin",
     "output_type": "stream",
     "text": [
      "\n",
      "Informe o seu sexo (F) ou (M):  M\n"
     ]
    },
    {
     "name": "stdout",
     "output_type": "stream",
     "text": [
      "Você é do sexo Masculino.\n"
     ]
    },
    {
     "name": "stdin",
     "output_type": "stream",
     "text": [
      "\n",
      "Informe o seu estado civil (S), (C), (V) ou (D):  L\n"
     ]
    },
    {
     "name": "stdout",
     "output_type": "stream",
     "text": [
      "Estado Civil informado inválido! Digite 'S' para solteiro, 'C' para casado, 'V' para Viúvo ou 'D' para divorciado.\n"
     ]
    },
    {
     "name": "stdin",
     "output_type": "stream",
     "text": [
      "\n",
      "Informe o seu estado civil (S), (C), (V) ou (D):  V\n"
     ]
    },
    {
     "name": "stdout",
     "output_type": "stream",
     "text": [
      "Você está Viúvo.\n"
     ]
    }
   ],
   "source": [
    "while True:\n",
    "    nome = input(\"\\nInforme o seu nome: \")\n",
    "    if len(nome) < 3:  \n",
    "        print(\"Nome informado inválido! Deve conter ao menos 3 caracteres.\")\n",
    "        continue  \n",
    "    print(f\"Olá, {nome.upper()}!\")  \n",
    "    break  \n",
    "\n",
    "while True:\n",
    "    try:\n",
    "        idade = int(input(\"\\nInforme a sua idade: \"))\n",
    "        if idade < 0 or idade > 150:\n",
    "            print(\"Idade informada inválida!\")\n",
    "            continue  \n",
    "        print(f\"Você possui {idade} anos.\")  \n",
    "        break\n",
    "    except ValueError:\n",
    "        print(\"Erro! Digite um número inteiro válido.\")\n",
    "\n",
    "while True:\n",
    "    try:\n",
    "        salario = float(input(\"\\nInforme o seu salário: \"))\n",
    "        if salario < 0:\n",
    "            print(\"Salário informado inválido!\")\n",
    "            continue  \n",
    "        print(f\"O seu salário é de R${salario:.2f}\")\n",
    "        break\n",
    "    except ValueError:\n",
    "        print(\"Erro! Digite um valor numérico válido.\")\n",
    "\n",
    "while True:\n",
    "    sexo = input(\"\\nInforme o seu sexo (F) ou (M): \").upper()\n",
    "    if sexo not in [\"F\", \"M\"]: \n",
    "        print(\"Sexo informado inválido! Digite 'F' para feminino ou 'M' para masculino.\")\n",
    "        continue  \n",
    "    print(f\"Você é do sexo {'Feminino' if sexo == 'F' else 'Masculino'}.\")  \n",
    "    break\n",
    "\n",
    "while True:\n",
    "    estado_civil = input(\"\\nInforme o seu estado civil (S), (C), (V) ou (D): \").upper()\n",
    "    if estado_civil not in [\"S\", \"C\", \"V\", \"D\"]:\n",
    "        print(\"Estado Civil informado inválido! Digite 'S' para solteiro, 'C' para casado, 'V' para Viúvo ou 'D' para divorciado.\")\n",
    "        continue\n",
    "    elif estado_civil == \"S\":\n",
    "        print(f\"Você está {'Solteiro.' if sexo == 'M' else 'Solteira.'}\")\n",
    "    elif estado_civil == \"C\":\n",
    "        print(f\"Você está {'Casado.' if sexo == 'M' else 'Casada.'}\")\n",
    "    elif estado_civil == \"V\":\n",
    "        print(f\"Você está {'Viúvo.' if sexo == 'M' else 'Viúva.'}\")\n",
    "    elif estado_civil == \"D\":\n",
    "        print(f\"Você está {'Divorciado.' if sexo == 'M' else 'Divorciada.'}\")\n",
    "    break"
   ]
  },
  {
   "cell_type": "code",
   "execution_count": 124,
   "id": "631652b7-2523-4db1-b48f-a2ae2cf1268a",
   "metadata": {},
   "outputs": [
    {
     "name": "stdin",
     "output_type": "stream",
     "text": [
      "\n",
      "Informe o seu nome:  JU\n"
     ]
    },
    {
     "name": "stdout",
     "output_type": "stream",
     "text": [
      "Nome informado inválido! Deve conter ao menos 3 caracteres.\n"
     ]
    },
    {
     "name": "stdin",
     "output_type": "stream",
     "text": [
      "\n",
      "Informe o seu nome:  BIA\n"
     ]
    },
    {
     "name": "stdout",
     "output_type": "stream",
     "text": [
      "Olá, BIA!\n"
     ]
    },
    {
     "name": "stdin",
     "output_type": "stream",
     "text": [
      "\n",
      "Informe a sua idade:  155\n"
     ]
    },
    {
     "name": "stdout",
     "output_type": "stream",
     "text": [
      "Idade informada inválida!\n"
     ]
    },
    {
     "name": "stdin",
     "output_type": "stream",
     "text": [
      "\n",
      "Informe a sua idade:  25\n"
     ]
    },
    {
     "name": "stdout",
     "output_type": "stream",
     "text": [
      "Você possui 25 anos.\n"
     ]
    },
    {
     "name": "stdin",
     "output_type": "stream",
     "text": [
      "\n",
      "Informe o seu salário:  -10\n"
     ]
    },
    {
     "name": "stdout",
     "output_type": "stream",
     "text": [
      "Salário informado inválido!\n"
     ]
    },
    {
     "name": "stdin",
     "output_type": "stream",
     "text": [
      "\n",
      "Informe o seu salário:  20000\n"
     ]
    },
    {
     "name": "stdout",
     "output_type": "stream",
     "text": [
      "O seu salário é de R$20000.00\n"
     ]
    },
    {
     "name": "stdin",
     "output_type": "stream",
     "text": [
      "\n",
      "Informe o seu sexo (F) ou (M):  G\n"
     ]
    },
    {
     "name": "stdout",
     "output_type": "stream",
     "text": [
      "Sexo informado inválido! Digite 'F' para feminino ou 'M' para masculino.\n"
     ]
    },
    {
     "name": "stdin",
     "output_type": "stream",
     "text": [
      "\n",
      "Informe o seu sexo (F) ou (M):  F\n"
     ]
    },
    {
     "name": "stdout",
     "output_type": "stream",
     "text": [
      "Você é do sexo Feminino.\n"
     ]
    },
    {
     "name": "stdin",
     "output_type": "stream",
     "text": [
      "\n",
      "Informe o seu estado civil (S), (C), (V) ou (D):  P\n"
     ]
    },
    {
     "name": "stdout",
     "output_type": "stream",
     "text": [
      "Estado Civil informado inválido! Digite 'S' para solteiro, 'C' para casado, 'V' para Viúvo ou 'D' para divorciado.\n"
     ]
    },
    {
     "name": "stdin",
     "output_type": "stream",
     "text": [
      "\n",
      "Informe o seu estado civil (S), (C), (V) ou (D):  C\n"
     ]
    },
    {
     "name": "stdout",
     "output_type": "stream",
     "text": [
      "Você está Casada.\n"
     ]
    }
   ],
   "source": [
    "while True:\n",
    "    nome = input(\"\\nInforme o seu nome: \")\n",
    "    if len(nome) < 3:  \n",
    "        print(\"Nome informado inválido! Deve conter ao menos 3 caracteres.\")\n",
    "        continue  \n",
    "    print(f\"Olá, {nome.upper()}!\")  \n",
    "    break  \n",
    "\n",
    "while True:\n",
    "        idade = int(input(\"\\nInforme a sua idade: \"))\n",
    "        if idade < 0 or idade > 150:\n",
    "            print(\"Idade informada inválida!\")\n",
    "            continue  \n",
    "        print(f\"Você possui {idade} anos.\")  \n",
    "        break\n",
    "        \n",
    "while True:\n",
    "        salario = float(input(\"\\nInforme o seu salário: \"))\n",
    "        if salario < 0:\n",
    "            print(\"Salário informado inválido!\")\n",
    "            continue  \n",
    "        print(f\"O seu salário é de R${salario:.2f}\")\n",
    "        break\n",
    "\n",
    "while True:\n",
    "    sexo = input(\"\\nInforme o seu sexo (F) ou (M): \").upper()\n",
    "    if sexo not in [\"F\", \"M\"]: \n",
    "        print(\"Sexo informado inválido! Digite 'F' para feminino ou 'M' para masculino.\")\n",
    "        continue  \n",
    "    print(f\"Você é do sexo {'Feminino' if sexo == 'F' else 'Masculino'}.\")  \n",
    "    break\n",
    "\n",
    "while True:\n",
    "    estado_civil = input(\"\\nInforme o seu estado civil (S), (C), (V) ou (D): \").upper()\n",
    "    if estado_civil not in [\"S\", \"C\", \"V\", \"D\"]:\n",
    "        print(\"Estado Civil informado inválido! Digite 'S' para solteiro, 'C' para casado, 'V' para Viúvo ou 'D' para divorciado.\")\n",
    "        continue\n",
    "    elif estado_civil == \"S\":\n",
    "        print(f\"Você está {'Solteiro.' if sexo == 'M' else 'Solteira.'}\")\n",
    "    elif estado_civil == \"C\":\n",
    "        print(f\"Você está {'Casado.' if sexo == 'M' else 'Casada.'}\")\n",
    "    elif estado_civil == \"V\":\n",
    "        print(f\"Você está {'Viúvo.' if sexo == 'M' else 'Viúva.'}\")\n",
    "    elif estado_civil == \"D\":\n",
    "        print(f\"Você está {'Divorciado.' if sexo == 'M' else 'Divorciada.'}\")\n",
    "    break"
   ]
  },
  {
   "cell_type": "code",
   "execution_count": 125,
   "id": "4c1c26d6-c3c3-4c53-97fa-3b69190bb661",
   "metadata": {},
   "outputs": [
    {
     "name": "stdin",
     "output_type": "stream",
     "text": [
      "Informe um nome:  Julia\n",
      "Informe a idade:  16\n",
      "Informe o salario:  800\n",
      "Informe o sexo:  F\n",
      "Informe o estado civil:  solteira\n"
     ]
    },
    {
     "name": "stdout",
     "output_type": "stream",
     "text": [
      "Estado civil deve ser informado como S (solteiro), C (casado), V (viuvo) ou D (divorciado)\n"
     ]
    },
    {
     "name": "stdin",
     "output_type": "stream",
     "text": [
      "Informe o estado civil:  s\n"
     ]
    }
   ],
   "source": [
    "# resolução professor\n",
    "\n",
    "# Validacao do nome\n",
    "nome = ''\n",
    "while (len(nome) <= 3):\n",
    "    nome = input('Informe um nome: ')\n",
    "    if (len(nome) <= 3):\n",
    "        print('O nome deve ter mais de tres letras!')\n",
    "\n",
    "# Validacao da idade\n",
    "idade = -1\n",
    "while (idade < 0) or (idade > 150):\n",
    "    idade = int(input('Informe a idade: '))\n",
    "    if (idade < 0) or (idade > 150):\n",
    "        print('Idade deve estar entre 0 e 150')\n",
    "\n",
    "# Validacao do salario\n",
    "salario = 0\n",
    "while (salario <= 0):\n",
    "    salario = int(input('Informe o salario: '))\n",
    "    if (salario <= 0):\n",
    "        print('O salario deve ser maior que zero')\n",
    "\n",
    "# Valida o sexo\n",
    "sexo = ''\n",
    "while (sexo != 'F') and (sexo != 'M'):\n",
    "    sexo = input('Informe o sexo: ').upper()\n",
    "    if (sexo != 'F') and (sexo != 'M'):\n",
    "        print('O sexo deve ser infomado como M (masculino) ou F (feminino)')\n",
    "\n",
    "# Valida o estado civil\n",
    "estado_civil = 'A'\n",
    "while ('SCVD'.find(estado_civil) < 0):\n",
    "    estado_civil = input('Informe o estado civil: ').upper()\n",
    "    if ('SCVD'.find(estado_civil) < 0):\n",
    "        print('Estado civil deve ser informado como S (solteiro), C (casado),'\\\n",
    "            ' V (viuvo) ou D (divorciado)')\n"
   ]
  },
  {
   "cell_type": "markdown",
   "id": "d2dad4a1-5440-4a79-8117-45c5869f84bc",
   "metadata": {},
   "source": [
    "#### Exercício 4\n",
    "Supondo que a população de um país A seja da ordem de 80000 habitantes com uma taxa anual de crescimento de 3% e\n",
    "que a população de B seja 200000 habitantes com uma taxa de crescimento de 1.5%. Faça um programa que calcule e\n",
    "escreva o número de anos necessários para que a população do país A ultrapasse ou iguale a população do país B,\n",
    "mantidas as taxas de crescimento.  "
   ]
  },
  {
   "cell_type": "code",
   "execution_count": 23,
   "id": "f05a38d3-926a-46ee-82c8-6f489504ebaf",
   "metadata": {},
   "outputs": [
    {
     "name": "stdout",
     "output_type": "stream",
     "text": [
      "O número de anos necessários para que a população do país A ultrapasse ou iguale a população do país B é de aproximadamente 63 anos!\n"
     ]
    }
   ],
   "source": [
    "import math \n",
    "\n",
    "pais_a_hab = 80000\n",
    "pais_a_tx = 0.03 \n",
    "pais_b_hab = 200000\n",
    "pais_b_tx = 0.015 \n",
    "\n",
    "anos = 0  # Contador de anos\n",
    "\n",
    "# Loop para calcular o crescimento populacional\n",
    "while pais_a_hab < pais_b_hab:\n",
    "    pais_a_hab *= (1 + pais_a_tx)  \n",
    "    pais_b_hab *= (1 + pais_b_tx)  \n",
    "    anos += 1  # acrescenta os anos\n",
    "\n",
    "print(f\"O número de anos necessários para que a população do país A ultrapasse ou iguale a população do país B é de aproximadamente {anos} anos!\")"
   ]
  },
  {
   "cell_type": "code",
   "execution_count": 24,
   "id": "911e7693-b57e-4fc4-a30f-c863971060dc",
   "metadata": {},
   "outputs": [
    {
     "name": "stdout",
     "output_type": "stream",
     "text": [
      "Serao necessarios 64 anos para que a populacao do pais A\n",
      "ultrapasse a populacao do pais B\n"
     ]
    }
   ],
   "source": [
    "#resolução do professor\n",
    "\n",
    "# Define os valores de populacao e crescimento\n",
    "populacaoA = 80000\n",
    "crescimentoA = 1.03\n",
    "populacaoB = 200000\n",
    "crescimentoB = 1.015\n",
    "\n",
    "# Realiza calculo de anos\n",
    "ano = 1\n",
    "while (populacaoA <= populacaoB):\n",
    "    populacaoA *= crescimentoA\n",
    "    populacaoB *= crescimentoB\n",
    "    ano += 1\n",
    "\n",
    "# Imprime o resultado\n",
    "print('Serao necessarios', ano, 'anos para que a populacao do pais A')\n",
    "print('ultrapasse a populacao do pais B')"
   ]
  },
  {
   "cell_type": "markdown",
   "id": "3798669f-5b72-42a1-9d14-d33d0a18eeaf",
   "metadata": {},
   "source": [
    "#### Exercício 5\n",
    "Faça um programa que leia 5 números e informe a soma e a média dos números."
   ]
  },
  {
   "cell_type": "code",
   "execution_count": 29,
   "id": "a7165e14-dcc2-49df-a701-77b1edaa9a46",
   "metadata": {},
   "outputs": [
    {
     "name": "stdin",
     "output_type": "stream",
     "text": [
      "Digite um número: 1\n",
      "Digite um número: 2\n",
      "Digite um número: 3\n",
      "Digite um número: 4\n",
      "Digite um número: 5\n"
     ]
    },
    {
     "name": "stdout",
     "output_type": "stream",
     "text": [
      "A soma dos números é de 15.00 e a média é de 3.00.\n"
     ]
    }
   ],
   "source": [
    "soma = 0 # Variável para armazenar a soma dos números\n",
    "for i in range (0,5):\n",
    "    numero = float(input(\"Digite um número:\"))\n",
    "    soma += numero # Acumula os números digitados\n",
    "media = soma / 5\n",
    "\n",
    "print(f\"A soma dos números é de {soma:.2f} e a média é de {media:.2f}.\")"
   ]
  },
  {
   "cell_type": "code",
   "execution_count": 30,
   "id": "bfe34e4f-094b-4c73-acd8-dd324d2155f6",
   "metadata": {},
   "outputs": [
    {
     "name": "stdin",
     "output_type": "stream",
     "text": [
      "Informe um numero:  5\n",
      "Informe um numero:  4\n",
      "Informe um numero:  6\n",
      "Informe um numero:  8\n",
      "Informe um numero:  9\n"
     ]
    },
    {
     "name": "stdout",
     "output_type": "stream",
     "text": [
      "A soma dos números digitados é 32\n",
      "A média dos números digitados é 6.4\n"
     ]
    }
   ],
   "source": [
    "#resolução do professor\n",
    "soma = 0\n",
    "for i in range(0, 5):\n",
    "    numero = int(input('Informe um numero: '))\n",
    "    soma += numero\n",
    "\n",
    "print(f'A soma dos números digitados é {soma}')\n",
    "print(f'A média dos números digitados é {soma / 5.0}')\n"
   ]
  },
  {
   "attachments": {
    "794801aa-3c5f-4606-b058-9faff6f6cbda.png": {
     "image/png": "[encoded data removed]"
    }
   },
   "cell_type": "markdown",
   "id": "4bcf0d80-3637-4080-b754-782ea449f3c0",
   "metadata": {},
   "source": [
    "#### Exercício 6\n",
    "Desenvolva um gerador de tabuada, capaz de gerar a tabuada de qualquer número inteiro entre 1 a 10. O usuário deve\n",
    "informar de qual numero ele deseja ver a tabuada. A saída deve ser conforme o exemplo abaixo:  \n",
    "\n",
    "![Captura de tela 2025-05-08 083715.png](attachment:794801aa-3c5f-4606-b058-9faff6f6cbda.png)\n"
   ]
  },
  {
   "cell_type": "code",
   "execution_count": 20,
   "id": "d9e67b28-bd94-460b-8a34-4006803d01c1",
   "metadata": {},
   "outputs": [
    {
     "name": "stdin",
     "output_type": "stream",
     "text": [
      "Informe o número desejado:  5\n"
     ]
    },
    {
     "name": "stdout",
     "output_type": "stream",
     "text": [
      "\n",
      "TABUADA DO 5:\n",
      "5 x 1 = 5\n",
      "5 x 2 = 10\n",
      "5 x 3 = 15\n",
      "5 x 4 = 20\n",
      "5 x 5 = 25\n",
      "5 x 6 = 30\n",
      "5 x 7 = 35\n",
      "5 x 8 = 40\n",
      "5 x 9 = 45\n",
      "5 x 10 = 50\n"
     ]
    }
   ],
   "source": [
    "numero = int(input(\"Informe o número desejado: \"))\n",
    "print(f\"\\nTABUADA DO {numero}:\")\n",
    "for i in range (1,11):\n",
    "    print(f\"{numero} x {i} = {numero * i}\")"
   ]
  },
  {
   "cell_type": "markdown",
   "id": "b116feef-55a8-4729-830c-b99652526f45",
   "metadata": {},
   "source": [
    "#### Exercício 7\n",
    "A série de Fibonacci é formada pela seqüência 1,1,2,3,5,8,13,21,34,55,... Faça um programa capaz de gerar a série até o\n",
    "n−ésimo termo."
   ]
  },
  {
   "cell_type": "code",
   "execution_count": 48,
   "id": "7b1c9686-dbf0-47d1-8c5b-a3335133fc6e",
   "metadata": {},
   "outputs": [
    {
     "name": "stdin",
     "output_type": "stream",
     "text": [
      "Informe quantos termos da sequência de Fibonacci deseja visualizar:  15\n"
     ]
    },
    {
     "name": "stdout",
     "output_type": "stream",
     "text": [
      "1 1 2 3 5 8 13 21 34 55 89 144 233 377 "
     ]
    }
   ],
   "source": [
    "n_inicial = 0\n",
    "n_segundo = 1\n",
    "\n",
    "termos = int(input(\"Informe quantos termos da sequência de Fibonacci deseja visualizar: \"))\n",
    "\n",
    "print(n_segundo, end=\" \")  # end= \" \" faz com que os valores sejam impressos na mesma linha, separados por espaço.\n",
    "\n",
    "while termos - 2 > 0:  # como já foi impresso os 2 primeiros (0 e 1), então se reduz a quantidade\n",
    "    soma = n_inicial + n_segundo\n",
    "    print(soma, end=\" \") \n",
    "\n",
    "    # Atualiza os valores para continuar a sequência\n",
    "    n_inicial = n_segundo\n",
    "    n_segundo = soma\n",
    "\n",
    "    termos -= 1  # Reduz a contagem de termos \n",
    "    #sempre que um novo número de Fibonacci for gerado, diminui a contagem para saber quantos ainda faltam ser impressos. SEnão, sera impresso infinitamente\n"
   ]
  },
  {
   "cell_type": "code",
   "execution_count": 42,
   "id": "59994486-5da9-45f1-a727-cd1acde5263c",
   "metadata": {},
   "outputs": [
    {
     "name": "stdin",
     "output_type": "stream",
     "text": [
      "Voce quer a série de Fibonacci até qual termo:  15\n"
     ]
    },
    {
     "name": "stdout",
     "output_type": "stream",
     "text": [
      "0\n",
      "1\n",
      "1\n",
      "2\n",
      "3\n",
      "5\n",
      "8\n",
      "13\n",
      "21\n",
      "34\n",
      "55\n",
      "89\n",
      "144\n",
      "233\n",
      "377\n"
     ]
    }
   ],
   "source": [
    "# resolução do professor\n",
    "termo = 0\n",
    "while (termo <= 0):\n",
    "    termo = int(input('Voce quer a série de Fibonacci até qual termo: '))\n",
    "    if (termo <= 0):\n",
    "        print('O termo deve ser positivo!')\n",
    "\n",
    "primeiro = 0\n",
    "print(primeiro)\n",
    "segundo = 1\n",
    "for i in range(1, termo):\n",
    "    print(segundo)\n",
    "    terceiro = primeiro + segundo\n",
    "    primeiro = segundo\n",
    "    segundo = terceiro\n"
   ]
  },
  {
   "cell_type": "markdown",
   "id": "5d8c6fe4-2736-49b5-af28-ae8dd6630d5f",
   "metadata": {},
   "source": [
    "#### Exercício 8\n",
    "Faça um programa que calcule e mostre a média aritmética de N notas."
   ]
  },
  {
   "cell_type": "code",
   "execution_count": 8,
   "id": "af3150b8-f380-4bc9-9777-e23cccccab7e",
   "metadata": {},
   "outputs": [
    {
     "name": "stdin",
     "output_type": "stream",
     "text": [
      "Informe a nota:  5\n",
      "Informe a nota:  8\n",
      "Informe a nota:  7\n",
      "Informe a nota:  9\n",
      "Informe a nota:  6\n",
      "Informe a nota:  1\n",
      "Informe a nota:  2.5\n",
      "Informe a nota:  -1\n"
     ]
    },
    {
     "name": "stdout",
     "output_type": "stream",
     "text": [
      "\n",
      "A média aritmética das 7 notas é de 5.50\n"
     ]
    }
   ],
   "source": [
    "soma = 0 # valor da soma das notas\n",
    "qtd = 0 # quantidade de notas inseridas\n",
    "while True:\n",
    "    nota = float(input(\"Informe a nota: \"))\n",
    "    \n",
    "    if nota < 0:  # para sair do loop, senão roda infinitamente\n",
    "        break\n",
    "        \n",
    "    soma += nota\n",
    "    qtd += 1\n",
    "media = soma / qtd\n",
    "\n",
    "print(f\"\\nA média aritmética das {qtd} notas é de {media:.2f}\")"
   ]
  },
  {
   "cell_type": "code",
   "execution_count": 11,
   "id": "1a33a9e5-c9e2-4fe1-a36d-bc3d55ff9c47",
   "metadata": {},
   "outputs": [
    {
     "name": "stdin",
     "output_type": "stream",
     "text": [
      "Você quer saber a média de quantas notas:  5\n",
      "Informe a nota 1:  1\n",
      "Informe a nota 2:  8\n",
      "Informe a nota 3:  7\n",
      "Informe a nota 4:  9\n",
      "Informe a nota 5:  6\n"
     ]
    },
    {
     "name": "stdout",
     "output_type": "stream",
     "text": [
      "A media das notas é 6.2\n"
     ]
    }
   ],
   "source": [
    "#resolução do professor\n",
    "quantidade = 0\n",
    "while (quantidade <= 0):\n",
    "    quantidade = int(input('Você quer saber a média de quantas notas: '))\n",
    "    if (quantidade <= 0):\n",
    "        print('A quandidade deve ser positiva!')\n",
    "\n",
    "soma = 0.0\n",
    "for i in range(0, quantidade):\n",
    "    nota = -1\n",
    "    while (nota < 0) or (nota > 10):\n",
    "        nota = float(input(f'Informe a nota {i+1}: '))\n",
    "        if (nota < 0) or (nota > 10):\n",
    "            print('A nota deve estar entre 0 e 10')\n",
    "    soma += nota\n",
    "\n",
    "print(f'A media das notas é {soma / float(quantidade)}')"
   ]
  },
  {
   "attachments": {
    "690da3db-de41-489d-bb91-43cfddfbc4c5.png": {
     "image/png": "[encoded data removed]"
    }
   },
   "cell_type": "markdown",
   "id": "fa5b2397-65fe-4f7e-88c6-e8784f8ed7fc",
   "metadata": {},
   "source": [
    "#### Exercício 9\n",
    "O Sr. Manoel Joaquim possui uma grande loja de artigos de R$ 1,99, com cerca de 10 caixas. Para agilizar o cálculo de\n",
    "quanto cada cliente deve pagar ele desenvolveu um tabela que contém o número de itens que o cliente comprou e ao lado\n",
    "o valor da conta. Desta forma a atendente do caixa precisa apenas contar quantos itens o cliente está levando e olhar na\n",
    "tabela de preços. Você foi contratado para desenvolver o programa que monta esta tabela de preços, que conterá os preços\n",
    "de 1 até 50 produtos, conforme o exemplo abaixo:\n",
    "\n",
    "![Captura de tela 2025-05-08 083900.png](attachment:690da3db-de41-489d-bb91-43cfddfbc4c5.png)\n"
   ]
  },
  {
   "cell_type": "code",
   "execution_count": 40,
   "id": "f61b9c2a-64de-4928-aae9-9e2e3f28649c",
   "metadata": {},
   "outputs": [
    {
     "name": "stdout",
     "output_type": "stream",
     "text": [
      "LOJAS QUASE DOIS - Tabela de preços:\n",
      "\n",
      "1 - R$1.99\n",
      "\n",
      "2 - R$3.98\n",
      "\n",
      "3 - R$5.97\n",
      "\n",
      "4 - R$7.96\n",
      "\n",
      "5 - R$9.95\n",
      "\n",
      "6 - R$11.94\n",
      "\n",
      "7 - R$13.93\n",
      "\n",
      "8 - R$15.92\n",
      "\n",
      "9 - R$17.91\n",
      "\n",
      "10 - R$19.90\n",
      "\n",
      "11 - R$21.89\n",
      "\n",
      "12 - R$23.88\n",
      "\n",
      "13 - R$25.87\n",
      "\n",
      "14 - R$27.86\n",
      "\n",
      "15 - R$29.85\n",
      "\n",
      "16 - R$31.84\n",
      "\n",
      "17 - R$33.83\n",
      "\n",
      "18 - R$35.82\n",
      "\n",
      "19 - R$37.81\n",
      "\n",
      "20 - R$39.80\n",
      "\n",
      "21 - R$41.79\n",
      "\n",
      "22 - R$43.78\n",
      "\n",
      "23 - R$45.77\n",
      "\n",
      "24 - R$47.76\n",
      "\n",
      "25 - R$49.75\n",
      "\n",
      "26 - R$51.74\n",
      "\n",
      "27 - R$53.73\n",
      "\n",
      "28 - R$55.72\n",
      "\n",
      "29 - R$57.71\n",
      "\n",
      "30 - R$59.70\n",
      "\n",
      "31 - R$61.69\n",
      "\n",
      "32 - R$63.68\n",
      "\n",
      "33 - R$65.67\n",
      "\n",
      "34 - R$67.66\n",
      "\n",
      "35 - R$69.65\n",
      "\n",
      "36 - R$71.64\n",
      "\n",
      "37 - R$73.63\n",
      "\n",
      "38 - R$75.62\n",
      "\n",
      "39 - R$77.61\n",
      "\n",
      "40 - R$79.60\n",
      "\n",
      "41 - R$81.59\n",
      "\n",
      "42 - R$83.58\n",
      "\n",
      "43 - R$85.57\n",
      "\n",
      "44 - R$87.56\n",
      "\n",
      "45 - R$89.55\n",
      "\n",
      "46 - R$91.54\n",
      "\n",
      "47 - R$93.53\n",
      "\n",
      "48 - R$95.52\n",
      "\n",
      "49 - R$97.51\n",
      "\n",
      "50 - R$99.50\n"
     ]
    }
   ],
   "source": [
    "print(\"LOJAS QUASE DOIS - Tabela de preços:\")\n",
    "for i in range (1,51):\n",
    "    valor = 1.99\n",
    "    print(f\"\\n{i} - R${valor*i:.2f}\")\n"
   ]
  },
  {
   "cell_type": "code",
   "execution_count": 41,
   "id": "975fb002-1156-4528-a77a-cfcdd40259e6",
   "metadata": {},
   "outputs": [
    {
     "name": "stdout",
     "output_type": "stream",
     "text": [
      "Loja Quase Dois - Tabela de preços\n",
      " 1 - R$  1.99\n",
      " 2 - R$  3.98\n",
      " 3 - R$  5.97\n",
      " 4 - R$  7.96\n",
      " 5 - R$  9.95\n",
      " 6 - R$ 11.94\n",
      " 7 - R$ 13.93\n",
      " 8 - R$ 15.92\n",
      " 9 - R$ 17.91\n",
      "10 - R$ 19.90\n",
      "11 - R$ 21.89\n",
      "12 - R$ 23.88\n",
      "13 - R$ 25.87\n",
      "14 - R$ 27.86\n",
      "15 - R$ 29.85\n",
      "16 - R$ 31.84\n",
      "17 - R$ 33.83\n",
      "18 - R$ 35.82\n",
      "19 - R$ 37.81\n",
      "20 - R$ 39.80\n",
      "21 - R$ 41.79\n",
      "22 - R$ 43.78\n",
      "23 - R$ 45.77\n",
      "24 - R$ 47.76\n",
      "25 - R$ 49.75\n",
      "26 - R$ 51.74\n",
      "27 - R$ 53.73\n",
      "28 - R$ 55.72\n",
      "29 - R$ 57.71\n",
      "30 - R$ 59.70\n",
      "31 - R$ 61.69\n",
      "32 - R$ 63.68\n",
      "33 - R$ 65.67\n",
      "34 - R$ 67.66\n",
      "35 - R$ 69.65\n",
      "36 - R$ 71.64\n",
      "37 - R$ 73.63\n",
      "38 - R$ 75.62\n",
      "39 - R$ 77.61\n",
      "40 - R$ 79.60\n",
      "41 - R$ 81.59\n",
      "42 - R$ 83.58\n",
      "43 - R$ 85.57\n",
      "44 - R$ 87.56\n",
      "45 - R$ 89.55\n",
      "46 - R$ 91.54\n",
      "47 - R$ 93.53\n",
      "48 - R$ 95.52\n",
      "49 - R$ 97.51\n",
      "50 - R$ 99.50\n"
     ]
    }
   ],
   "source": [
    "# resolução professor\n",
    "\n",
    "print('Loja Quase Dois - Tabela de preços')\n",
    "for i in range(1, 51):\n",
    "    print(f'{i:2d} - R$ {(i * 1.99):5.2f}')"
   ]
  },
  {
   "cell_type": "markdown",
   "id": "009cf284-db76-4b1d-82ad-ce2e43a1f0c2",
   "metadata": {},
   "source": [
    "#### Exercício 10\n",
    "O Departamento Estadual de Meteorologia lhe contratou para desenvolver um programa que leia um conjunto indeterminado de\n",
    "temperaturas, e informe ao final a menor e a maior temperaturas informadas, bem como a média das temperaturas."
   ]
  },
  {
   "cell_type": "code",
   "execution_count": 15,
   "id": "8b4d1fc4-9900-491c-9969-71f93d68ebd0",
   "metadata": {},
   "outputs": [
    {
     "name": "stdin",
     "output_type": "stream",
     "text": [
      "Quantas temperaturas você deseja informar?  4\n",
      "Informe a 1ª temperatura em °C:  22\n",
      "Informe a 2ª temperatura em °C:  15\n",
      "Informe a 3ª temperatura em °C:  37\n",
      "Informe a 4ª temperatura em °C:  29.5\n"
     ]
    },
    {
     "name": "stdout",
     "output_type": "stream",
     "text": [
      "\n",
      "A maior temperatura informada foi 37.0 °C.\n",
      "A menor temperatura informada foi 15.0 °C.\n",
      "A média das temperaturas é 25.88.\n"
     ]
    }
   ],
   "source": [
    "cj_temp = int(input(\"Quantas temperaturas você deseja informar? \"))\n",
    "soma = 0\n",
    "temperaturas = []  # Lista para armazenar as temperaturas informadas\n",
    "\n",
    "# Loop para coletar todas as temperaturas\n",
    "for i in range(cj_temp):\n",
    "    temp = float(input(f\"Informe a {i+1}ª temperatura em °C: \"))\n",
    "    temperaturas.append(temp)  # insere a temperatura na lista\n",
    "    soma += temp  # Acumula a soma das temperaturas\n",
    "\n",
    "\n",
    "temp_menor = min(temperaturas)\n",
    "temp_maior = max(temperaturas)\n",
    "media = soma / cj_temp\n",
    "\n",
    "\n",
    "print(f\"\\nA maior temperatura informada foi {temp_maior:.1f} °C.\")\n",
    "print(f\"A menor temperatura informada foi {temp_menor:.1f} °C.\")\n",
    "print(f\"A média das temperaturas é {media:.2f}.\")\n"
   ]
  },
  {
   "cell_type": "code",
   "execution_count": 16,
   "id": "426834ac-dc5a-4b73-89ab-c17fabe51e3f",
   "metadata": {},
   "outputs": [
    {
     "name": "stdin",
     "output_type": "stream",
     "text": [
      "Informe a quantidade de temperaturas:  2\n",
      "Informe a temperatura 1:  22\n",
      "Informe a temperatura 2:  37\n"
     ]
    },
    {
     "name": "stdout",
     "output_type": "stream",
     "text": [
      "Media da temperatura:  29.5\n",
      "Maior temperatura:  37.0\n",
      "Menor temperatura:  22.0\n"
     ]
    }
   ],
   "source": [
    "# resolução do professor\n",
    "\n",
    "quantidade = 0\n",
    "while (quantidade <= 0):\n",
    "    quantidade = int(input('Informe a quantidade de temperaturas: '))\n",
    "    if (quantidade <= 0):\n",
    "        print('A quandidade deve ser positiva!')\n",
    "\n",
    "soma = 0.0\n",
    "for i in range(0, quantidade):\n",
    "    temperatura = float(input(f'Informe a temperatura {i+1}: '))\n",
    "    if ('maior' not in vars()) or (temperatura > maior):\n",
    "        maior = temperatura\n",
    "    if ('menor' not in vars()) or (temperatura < menor):\n",
    "        menor = temperatura\n",
    "    soma += temperatura\n",
    "\n",
    "media = soma / float(quantidade)\n",
    "\n",
    "print('Media da temperatura: ', media)\n",
    "print('Maior temperatura: ', maior)\n",
    "print('Menor temperatura: ', menor)\n"
   ]
  }
 ],
 "metadata": {
  "kernelspec": {
   "display_name": "Python 3 (ipykernel)",
   "language": "python",
   "name": "python3"
  },
  "language_info": {
   "codemirror_mode": {
    "name": "ipython",
    "version": 3
   },
   "file_extension": ".py",
   "mimetype": "text/x-python",
   "name": "python",
   "nbconvert_exporter": "python",
   "pygments_lexer": "ipython3",
   "version": "3.12.7"
  }
 },
 "nbformat": 4,
 "nbformat_minor": 5
}
