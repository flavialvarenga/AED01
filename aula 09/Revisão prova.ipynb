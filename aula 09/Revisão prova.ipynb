{
 "cells": [
  {
   "cell_type": "markdown",
   "id": "0c518687-8905-4a98-95d5-9a1a76117d6f",
   "metadata": {},
   "source": [
    "# Exercício 1 – Estrutura Sequencial\n",
    "Escreva um programa em Python que solicite ao usuário o valor de\n",
    "dois números, calcule e exiba a soma deles."
   ]
  },
  {
   "cell_type": "code",
   "execution_count": 23,
   "id": "4459d39f-ca70-41fa-8866-886bfa37e30b",
   "metadata": {},
   "outputs": [
    {
     "name": "stdin",
     "output_type": "stream",
     "text": [
      "Digite um número:  5\n",
      "Digite um número:  5\n"
     ]
    },
    {
     "name": "stdout",
     "output_type": "stream",
     "text": [
      "A soma dos números é 10.0\n"
     ]
    }
   ],
   "source": [
    "numero1 = float(input(\"Digite um número: \"))\n",
    "numero2 = float(input(\"Digite um número: \"))\n",
    "soma = numero1 + numero2\n",
    "print(\"A soma dos números é\" , soma) "
   ]
  },
  {
   "cell_type": "code",
   "execution_count": null,
   "id": "0425704c-8c6a-4fcc-859d-1e08c4738450",
   "metadata": {},
   "outputs": [],
   "source": [
    "# Solicita ao usuário para inserir dois números\n",
    "numero1 = float(input(\"Digite o primeiro número: \"))\n",
    "numero2 = float(input(\"Digite o segundo número: \"))\n",
    "# Calcula a soma dos números\n",
    "soma = numero1 + numero2\n",
    "# Exibe o resultado\n",
    "print(\"A soma dos dois números é:\", soma)"
   ]
  },
  {
   "cell_type": "markdown",
   "id": "a236e458-2672-446f-9aaf-21483ae8e4d3",
   "metadata": {},
   "source": [
    "# Exercício 2 – Estrutura Sequencial\n",
    "\n",
    "Escreva um programa em Python que solicite ao usuário a\n",
    "temperatura em graus Celsius e converta para Fahrenheit. A fórmula\n",
    "para conversão é F = C * 9/5 + 32."
   ]
  },
  {
   "cell_type": "code",
   "execution_count": 31,
   "id": "14aa50e8-c0eb-46c7-903a-0ba54e8c1c8b",
   "metadata": {},
   "outputs": [
    {
     "name": "stdin",
     "output_type": "stream",
     "text": [
      "Digite a temperatura em graus Celsius:  34.5\n"
     ]
    },
    {
     "name": "stdout",
     "output_type": "stream",
     "text": [
      "A temperatura em Fahrenheit é 94.1\n"
     ]
    }
   ],
   "source": [
    "celsius = float(input(\"Digite a temperatura em graus Celsius: \"))\n",
    "fahren = celsius * 9/5 + 32\n",
    "print(\"A temperatura em Fahrenheit é\" , fahren)"
   ]
  },
  {
   "cell_type": "code",
   "execution_count": null,
   "id": "28608065-97fe-4b00-ab53-9e71d799405b",
   "metadata": {},
   "outputs": [],
   "source": [
    "# Solicita ao usuário para inserir a temperatura em Celsius\n",
    "celsius = float(input(\"Digite a temperatura em Celsius: \"))\n",
    "# Converte a temperatura para Fahrenheit\n",
    "fahrenheit = celsius * 9/5 + 32\n",
    "# Exibe o resultado\n",
    "print(\"A temperatura em Fahrenheit é:\", fahrenheit)"
   ]
  },
  {
   "cell_type": "markdown",
   "id": "26acc623-5270-4adb-9401-362244fc7328",
   "metadata": {},
   "source": [
    "# Exercício 3 – Estrutura Condicional\n",
    "Escreva um programa em Python que solicite ao usuário um número\n",
    "e verifique se ele é positivo, negativo ou zero. Exiba a mensagem\n",
    "correspondente."
   ]
  },
  {
   "cell_type": "code",
   "execution_count": 56,
   "id": "f39284e4-cc4b-4178-bdb3-277c3db48ec1",
   "metadata": {},
   "outputs": [
    {
     "name": "stdin",
     "output_type": "stream",
     "text": [
      "Digite um número:  0\n"
     ]
    },
    {
     "name": "stdout",
     "output_type": "stream",
     "text": [
      "O número informado é 0!\n"
     ]
    }
   ],
   "source": [
    "numero = float(input(\"Digite um número: \"))\n",
    "if numero > 0:\n",
    "    print(\"O número é positivo!\")\n",
    "elif numero < 0:\n",
    "    print(\"O número é negativo!\")\n",
    "else:\n",
    "    print(\"O número informado é 0!\")"
   ]
  },
  {
   "cell_type": "code",
   "execution_count": null,
   "id": "1ecdc184-a816-4cd4-a303-436e7e9d424c",
   "metadata": {},
   "outputs": [],
   "source": [
    "# Solicita ao usuário para inserir um número\n",
    "numero = float(input(\"Digite um número: \"))\n",
    "# Verifica se o número é positivo, negativo ou zero\n",
    "if numero > 0:\n",
    "print(\"O número é positivo.\")\n",
    "elif numero < 0:\n",
    "print(\"O número é negativo.\")\n",
    "else:\n",
    "print(\"O número é zero.\")"
   ]
  },
  {
   "cell_type": "markdown",
   "id": "6b4aff11-b9d3-4d07-8b93-5cd4d3779c65",
   "metadata": {},
   "source": [
    "# Exercício 4 – Estrutura Condicional\n",
    "Escreva um programa em Python que solicite ao usuário três números\n",
    "e determine qual é o maior entre eles."
   ]
  },
  {
   "cell_type": "code",
   "execution_count": 77,
   "id": "29a95d62-5e93-46a6-a046-a4498b76e819",
   "metadata": {},
   "outputs": [
    {
     "name": "stdin",
     "output_type": "stream",
     "text": [
      "Digite um número:  5\n",
      "Digite outro número:  1\n",
      "Digite mais um número:  0\n"
     ]
    },
    {
     "name": "stdout",
     "output_type": "stream",
     "text": [
      " O maior número é 5.0\n"
     ]
    }
   ],
   "source": [
    "numero1 = float(input(\"Digite um número: \"))\n",
    "numero2 = float(input(\"Digite outro número: \"))\n",
    "numero3 = float(input(\"Digite mais um número: \"))\n",
    "if numero1 >= numero2 and numero1 >= numero3:\n",
    "    print(\" O maior número é\" , numero1)\n",
    "elif numero2 >= numero1 and numero2 >= numero3:\n",
    "    print(\"O maior número é\", numero2)\n",
    "else:\n",
    "    print(\"O maior número é\", numero3)"
   ]
  },
  {
   "cell_type": "code",
   "execution_count": null,
   "id": "ee9ad60f-2034-4f80-9c51-6e12809b991f",
   "metadata": {},
   "outputs": [],
   "source": [
    "# Solicita ao usuário para inserir três números\n",
    "num1 = float(input(\"Digite o primeiro número: \"))\n",
    "num2 = float(input(\"Digite o segundo número: \"))\n",
    "num3 = float(input(\"Digite o terceiro número: \"))\n",
    "# Verifica qual é o maior número\n",
    "if num1 >= num2 and num1 >= num3:\n",
    "print(\"O maior número é:\", num1)\n",
    "elif num2 >= num1 and num2 >= num3:\n",
    "print(\"O maior número é:\", num2)\n",
    "else:\n",
    "print(\"O maior número é:\", num3)"
   ]
  },
  {
   "cell_type": "markdown",
   "id": "bc4d9a6e-d305-482f-a30d-6c9a43810b2f",
   "metadata": {},
   "source": [
    "# Exercício 5 – Estrutura de Repetição\n",
    "Escreva um programa em Python que exiba todos os números de 1 a\n",
    "10."
   ]
  },
  {
   "cell_type": "code",
   "execution_count": 88,
   "id": "22521c04-ef0d-4380-a402-1b4a38513096",
   "metadata": {},
   "outputs": [
    {
     "name": "stdout",
     "output_type": "stream",
     "text": [
      "1\n",
      "2\n",
      "3\n",
      "4\n",
      "5\n",
      "6\n",
      "7\n",
      "8\n",
      "9\n",
      "10\n"
     ]
    }
   ],
   "source": [
    "for i in range(1,11):\n",
    "    print(i)\n",
    "    "
   ]
  },
  {
   "cell_type": "code",
   "execution_count": null,
   "id": "e0fb5fb8-9152-4edd-8adc-96e4bf951cb7",
   "metadata": {},
   "outputs": [],
   "source": [
    "# Exibe os números de 1 a 10\n",
    "for i in range(1, 11):\n",
    "print(i)"
   ]
  },
  {
   "cell_type": "markdown",
   "id": "efe44de0-72ae-4b0d-8079-b550e4fcfc4d",
   "metadata": {},
   "source": [
    "# Exercício 6 – Estrutura de Repetição\n",
    "Escreva um programa em Python que solicite ao usuário um número\n",
    "inteiro positivo e calcule o fatorial desse número"
   ]
  },
  {
   "cell_type": "code",
   "execution_count": 421,
   "id": "7e73d59d-8ca1-4128-a44d-2fbd987d34d4",
   "metadata": {},
   "outputs": [
    {
     "name": "stdin",
     "output_type": "stream",
     "text": [
      "Digite um número inteiro e positivo:  9\n"
     ]
    },
    {
     "name": "stdout",
     "output_type": "stream",
     "text": [
      "O fatorial do número 9 é 362880\n"
     ]
    }
   ],
   "source": [
    "num = int(input(\"Digite um número inteiro e positivo: \"))\n",
    "fatorial = 1\n",
    "if num < 0:\n",
    "    print(\"Não existe fatorial. Insira um número inteiro e positivo!\")\n",
    "elif num == 0:\n",
    "    print(\"O fatorial do número\" , num, \"é igual a 1\")\n",
    "else:\n",
    "    for i in range(1, num+1):\n",
    "        fatorial *= i\n",
    "    print(\"O fatorial do número\" , num, \"é\" ,fatorial)\n",
    "          "
   ]
  },
  {
   "cell_type": "code",
   "execution_count": 407,
   "id": "85b05e2e-c3b2-45bd-bdca-0b8532241a92",
   "metadata": {},
   "outputs": [
    {
     "name": "stdin",
     "output_type": "stream",
     "text": [
      "Digite um número inteiro e positivo:  0\n"
     ]
    },
    {
     "name": "stdout",
     "output_type": "stream",
     "text": [
      "O fatorial do número 0 é 1\n"
     ]
    }
   ],
   "source": [
    "num = int(input(\"Digite um número inteiro e positivo: \"))\n",
    "if num < 0:\n",
    "    print(\"Não existe fatorial. Insira um número inteiro e positivo!\")\n",
    "else:\n",
    "        fatorial = 1\n",
    "        for i in range(1, num + 1):\n",
    "            fatorial = fatorial * i\n",
    "        print(\"O fatorial do número\" , num, \"é\",fatorial)"
   ]
  },
  {
   "cell_type": "code",
   "execution_count": null,
   "id": "c4798516-fdc1-45e2-8219-cce4dff1b836",
   "metadata": {},
   "outputs": [],
   "source": [
    "# Solicita ao usuário para inserir um número inteiro positivo\n",
    "numero = int(input(\"Digite um número inteiro positivo: \"))\n",
    "# Verifica se o número é positivo\n",
    "if numero < 0:\n",
    "    print(\"Por favor, insira um número inteiro positivo.\")\n",
    "else:\n",
    "    fatorial = 1\n",
    "for i in range(1, numero + 1):\n",
    "    fatorial *= i\n",
    "print(\"O fatorial de\", numero, \"é:\", fatorial)"
   ]
  },
  {
   "cell_type": "markdown",
   "id": "2211f17b-d3ed-4d90-86e0-cff978b94852",
   "metadata": {},
   "source": [
    "# Exercício 7 – Geral\n",
    "\n",
    "Você é um cientista de dados e precisa analisar as notas de um conjunto de\n",
    "estudantes em uma disciplina. Você deverá escrever um programa em Python que\n",
    "solicite ao usuário o número de estudantes e, em seguida, as notas desses\n",
    "estudantes. O programa deve calcular e exibir:  \n",
    "1.A média das notas.  \n",
    "2.A maior e a menor nota.  \n",
    "3.O número de estudantes aprovados (nota maior ou igual a 6) e reprovados (nota\n",
    "menor que 6).  \n",
    "Regras:    \n",
    "• Utilize variáveis simples para armazenar as informações.  \n",
    "• Utilize estruturas de repetição para coletar as notas dos estudantes.  \n",
    "• Utilize estruturas condicionais para determinar o status de aprovação dos\n",
    "estudantes"
   ]
  },
  {
   "cell_type": "code",
   "execution_count": 7,
   "id": "d26e5a4d-688a-498d-ac92-4c9ea63a88e5",
   "metadata": {},
   "outputs": [
    {
     "name": "stdin",
     "output_type": "stream",
     "text": [
      "Digite a quantidade de estudantes:  3\n",
      "Digite a nota do estudante 1:  5\n",
      "Digite a nota do estudante 2:  6\n",
      "Digite a nota do estudante 3:  7\n"
     ]
    },
    {
     "name": "stdout",
     "output_type": "stream",
     "text": [
      "A média das notas é de 6.0\n",
      "A maior nota é 7.0 e a menor nota é 7.0\n",
      "A quantidade de estudantes aprovados é de 1 e de reprovados de 0\n"
     ]
    }
   ],
   "source": [
    "num_estudantes = int(input(\"Digite a quantidade de estudantes: \"))\n",
    "soma_notas = 0\n",
    "maior_nota = -1\n",
    "menor_nota = 101\n",
    "num_aprovados = 0\n",
    "num_reprovados = 0\n",
    "\n",
    "for i in range(num_estudantes):\n",
    "    nota = float(input(f\"Digite a nota do estudante {i+1}: \"))\n",
    "    soma_notas += nota\n",
    "if nota > maior_nota:\n",
    "    maior_nota = nota\n",
    "if nota < menor_nota:\n",
    "    menor_nota = nota\n",
    "    if nota >= 6:\n",
    "        num_aprovados += 1\n",
    "    else:\n",
    "        num_reprovados += 1\n",
    "\n",
    "media = soma_notas / num_estudantes\n",
    "\n",
    "\n",
    "print(\"A média das notas é de\" , media)\n",
    "print(f\"A maior nota é {maior_nota} e a menor nota é {menor_nota}\")\n",
    "print(f\"A quantidade de estudantes aprovados é de {num_aprovados} e de reprovados de {num_reprovados}\")\n"
   ]
  },
  {
   "cell_type": "code",
   "execution_count": 281,
   "id": "6b4f580d-f3a4-426b-983c-183c049ad62b",
   "metadata": {},
   "outputs": [
    {
     "name": "stdin",
     "output_type": "stream",
     "text": [
      "Digite o número de estudantes:  3\n",
      "Digite a nota do estudante 1:  1\n",
      "Digite a nota do estudante 2:  2\n",
      "Digite a nota do estudante 3:  5\n"
     ]
    },
    {
     "name": "stdout",
     "output_type": "stream",
     "text": [
      "\n",
      "Resultados da Análise:\n",
      "Média das notas: 1.67\n",
      "Maior nota: 5.0\n",
      "Menor nota: 5.0\n",
      "Número de estudantes aprovados: 0\n",
      "Número de estudantes reprovados: 1\n"
     ]
    }
   ],
   "source": [
    "# Solicita o número de estudantes\n",
    "num_estudantes = int(input(\"Digite o número de estudantes: \"))\n",
    "# Inicializa variáveis para cálculos\n",
    "soma_notas = 0\n",
    "maior_nota = -1 # Inicializa com um valor baixo\n",
    "menor_nota = 101 # Inicializa com um valor alto\n",
    "num_aprovados = 0\n",
    "num_reprovados = 0\n",
    "# Coleta as notas dos estudantes e realiza os cálculos\n",
    "for i in range(num_estudantes):\n",
    "    nota = float(input(f\"Digite a nota do estudante {i+1}: \"))\n",
    "soma_notas += nota\n",
    "# Atualiza a maior e a menor nota\n",
    "if nota > maior_nota:\n",
    "    maior_nota = nota\n",
    "if nota < menor_nota:\n",
    "    menor_nota = nota\n",
    "# Verifica se o estudante foi aprovado ou reprovado\n",
    "if nota >= 6:\n",
    "    num_aprovados += 1\n",
    "else:\n",
    "    num_reprovados += 1\n",
    "# Calcula a média das notas\n",
    "media_notas = soma_notas / num_estudantes\n",
    "# Exibe os resultados\n",
    "print(\"\\nResultados da Análise:\")\n",
    "print(f\"Média das notas: {media_notas:.2f}\")\n",
    "print(f\"Maior nota: {maior_nota}\")\n",
    "print(f\"Menor nota: {menor_nota}\")\n",
    "print(f\"Número de estudantes aprovados: {num_aprovados}\")\n",
    "print(f\"Número de estudantes reprovados: {num_reprovados}\")"
   ]
  },
  {
   "cell_type": "code",
   "execution_count": null,
   "id": "c9678881-5c32-4937-9e13-b16cb6121fc9",
   "metadata": {},
   "outputs": [],
   "source": []
  }
 ],
 "metadata": {
  "kernelspec": {
   "display_name": "Python [conda env:base] *",
   "language": "python",
   "name": "conda-base-py"
  },
  "language_info": {
   "codemirror_mode": {
    "name": "ipython",
    "version": 3
   },
   "file_extension": ".py",
   "mimetype": "text/x-python",
   "name": "python",
   "nbconvert_exporter": "python",
   "pygments_lexer": "ipython3",
   "version": "3.12.7"
  }
 },
 "nbformat": 4,
 "nbformat_minor": 5
}
