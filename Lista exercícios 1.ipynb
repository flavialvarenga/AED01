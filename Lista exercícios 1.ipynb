{
 "cells": [
  {
   "cell_type": "markdown",
   "id": "07c5e759-21e5-4957-9224-91b2df4eb93e",
   "metadata": {},
   "source": [
    "# Lista de exercícios condicionais"
   ]
  },
  {
   "cell_type": "markdown",
   "id": "ef4c1903-9b33-44df-8980-7ab84a144868",
   "metadata": {},
   "source": [
    "Exercício 0  \n",
    "Faça um algoritmo para ler um número e mostrar se ele é par ou impar, positivo ou negativo."
   ]
  },
  {
   "cell_type": "code",
   "execution_count": 17,
   "id": "c46f88dc-8155-44c7-9530-7340ab06b520",
   "metadata": {},
   "outputs": [
    {
     "name": "stdin",
     "output_type": "stream",
     "text": [
      "Digite um número:  3\n"
     ]
    },
    {
     "name": "stdout",
     "output_type": "stream",
     "text": [
      "Esse número é positivo!\n",
      "Esse número é impar!\n"
     ]
    }
   ],
   "source": [
    "numero = int(input(\"Digite um número: \"))\n",
    "if numero >= 0:\n",
    "    print(\"Esse número é positivo!\")\n",
    "elif numero < 0:\n",
    "    print(\"Esse número é negativo!\")\n",
    "if numero % 2 == 0:\n",
    "    print(\"Esse número é par!\")\n",
    "else:\n",
    "    print(\"Esse número é impar!\")"
   ]
  },
  {
   "cell_type": "markdown",
   "id": "cc42c9c0-e110-4f74-8c9c-786ad66446bb",
   "metadata": {},
   "source": [
    "Exercício 1\n"
   ]
  }
 ],
 "metadata": {
  "kernelspec": {
   "display_name": "Python [conda env:base] *",
   "language": "python",
   "name": "conda-base-py"
  },
  "language_info": {
   "codemirror_mode": {
    "name": "ipython",
    "version": 3
   },
   "file_extension": ".py",
   "mimetype": "text/x-python",
   "name": "python",
   "nbconvert_exporter": "python",
   "pygments_lexer": "ipython3",
   "version": "3.12.7"
  }
 },
 "nbformat": 4,
 "nbformat_minor": 5
}
